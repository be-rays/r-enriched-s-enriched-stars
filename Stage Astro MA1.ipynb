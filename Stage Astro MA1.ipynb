{
 "cells": [
  {
   "cell_type": "markdown",
   "metadata": {},
   "source": [
    "#### Premiers Pas\n",
    "_______"
   ]
  },
  {
   "cell_type": "markdown",
   "metadata": {},
   "source": [
    "We'll need to use pyfits in order to read the .fits file."
   ]
  },
  {
   "cell_type": "code",
   "execution_count": 1,
   "metadata": {
    "collapsed": false
   },
   "outputs": [],
   "source": [
    "import pyfits\n",
    "import math\n",
    "from scipy.stats import norm"
   ]
  },
  {
   "cell_type": "code",
   "execution_count": 2,
   "metadata": {
    "collapsed": false
   },
   "outputs": [
    {
     "name": "stderr",
     "output_type": "stream",
     "text": [
      "C:\\Users\\Frédérick\\Anaconda3\\lib\\site-packages\\pyfits\\util.py:893: UserWarning: Could not find appropriate MS Visual C Runtime library or library is corrupt/misconfigured; cannot determine whether your file object was opened in append mode.  Please consider using a file object opened in write mode instead.\n",
      "  'Could not find appropriate MS Visual C Runtime '\n"
     ]
    }
   ],
   "source": [
    "table = pyfits.open('C:/Users/Frédérick/Documents/Stage I 2017-2018/GES_iDR5_WG15_Recommended.fits',memmap=True,uint=True)"
   ]
  },
  {
   "cell_type": "code",
   "execution_count": 3,
   "metadata": {
    "collapsed": false
   },
   "outputs": [
    {
     "data": {
      "text/plain": [
       "<bound method HDUList.info of [<pyfits.hdu.image.PrimaryHDU object at 0x000000788D3910B8>, <pyfits.hdu.table.BinTableHDU object at 0x000000788D3F0F60>, <pyfits.hdu.table.BinTableHDU object at 0x000000788D42E978>]>"
      ]
     },
     "execution_count": 3,
     "metadata": {},
     "output_type": "execute_result"
    }
   ],
   "source": [
    "table.info"
   ]
  },
  {
   "cell_type": "markdown",
   "metadata": {},
   "source": [
    "__________"
   ]
  },
  {
   "cell_type": "markdown",
   "metadata": {},
   "source": [
    "We can now have a look at the very top non-data row :"
   ]
  },
  {
   "cell_type": "code",
   "execution_count": 4,
   "metadata": {
    "collapsed": false,
    "scrolled": false
   },
   "outputs": [
    {
     "data": {
      "text/plain": [
       "SIMPLE  =                    T / Written by IDL:  Thu Aug 24 02:57:10 2017      \n",
       "BITPIX  =                    8 / Number of bits per data pixel                  \n",
       "NAXIS   =                    0 / Number of data axes                            \n",
       "EXTEND  =                    T / FITS data may contain extensions               \n",
       "COMMENT FITS (Flexible Image Transport System) format is defined in 'Astronomy  \n",
       "COMMENT and Astrophysics', volume 376, page 359; bibcode 2001A&A...376..359H    \n",
       "COMMENT -------------------------------------------------------------------     \n",
       "COMMENT GES iDR5 WG15 Recommended                                               \n",
       "RELEASE = 'iDR5    '           /Data release tag                                \n",
       "DATETAB = '2017-08-24'         /Date of production of table                     \n",
       "INSTRUME= 'GIRAFFE '           /FLAMES instrument for this table                \n",
       "NODE1   = 'WG15    '           /Node which produced this file                   \n",
       "NODE2   = 'WG10    '           /Node which produced this file                   \n",
       "NODE3   = 'WG11    '           /Node which produced this file                   \n",
       "NODE4   = 'WG12    '           /Node which produced this file                   \n",
       "NODE5   = 'WG13    '           /Node which produced this file                   \n",
       "NODE6   = 'WG14    '           /Node which produced this file                   "
      ]
     },
     "execution_count": 4,
     "metadata": {},
     "output_type": "execute_result"
    }
   ],
   "source": [
    "head=table[0].header\n",
    "head"
   ]
  },
  {
   "cell_type": "markdown",
   "metadata": {},
   "source": [
    "Let's see if we can get the string associated with a given keyword :"
   ]
  },
  {
   "cell_type": "code",
   "execution_count": 5,
   "metadata": {
    "collapsed": false
   },
   "outputs": [
    {
     "data": {
      "text/plain": [
       "'iDR5'"
      ]
     },
     "execution_count": 5,
     "metadata": {},
     "output_type": "execute_result"
    }
   ],
   "source": [
    "head['release']"
   ]
  },
  {
   "cell_type": "markdown",
   "metadata": {},
   "source": [
    "Now, let's collect some data from the file :"
   ]
  },
  {
   "cell_type": "code",
   "execution_count": 6,
   "metadata": {
    "collapsed": false
   },
   "outputs": [],
   "source": [
    "alldata=table[1].data"
   ]
  },
  {
   "cell_type": "code",
   "execution_count": 7,
   "metadata": {
    "collapsed": false
   },
   "outputs": [],
   "source": [
    "first_row=alldata[0]"
   ]
  },
  {
   "cell_type": "code",
   "execution_count": 8,
   "metadata": {
    "collapsed": false
   },
   "outputs": [
    {
     "name": "stdout",
     "output_type": "stream",
     "text": [
      "There are 518 columns in total.\n"
     ]
    }
   ],
   "source": [
    "print('There are',len(first_row),'columns in total.')"
   ]
  },
  {
   "cell_type": "code",
   "execution_count": 9,
   "metadata": {
    "collapsed": false
   },
   "outputs": [],
   "source": [
    "header1=table[1].header"
   ]
  },
  {
   "cell_type": "markdown",
   "metadata": {},
   "source": [
    "Now, let's have a closer look at one of these columns."
   ]
  },
  {
   "cell_type": "markdown",
   "metadata": {},
   "source": [
    "The 14th header is called 'object' :"
   ]
  },
  {
   "cell_type": "code",
   "execution_count": 10,
   "metadata": {
    "collapsed": false
   },
   "outputs": [
    {
     "data": {
      "text/plain": [
       "'OBJECT'"
      ]
     },
     "execution_count": 10,
     "metadata": {},
     "output_type": "execute_result"
    }
   ],
   "source": [
    "header1[13]"
   ]
  },
  {
   "cell_type": "markdown",
   "metadata": {},
   "source": [
    "This looks promising. Let's look at the data in that column and figure out the length of each column."
   ]
  },
  {
   "cell_type": "code",
   "execution_count": 11,
   "metadata": {
    "collapsed": false
   },
   "outputs": [
    {
     "name": "stdout",
     "output_type": "stream",
     "text": [
      "['U_2_b_177_13' 'G_2_r_353_228' 'G_2_e_353_353' ..., 'U_2_b_353_7'\n",
      " 'U_2_b_177_6' 'Sun_Benchmarks_BordeauxLib3']\n",
      "\n",
      "There are 82123 objects in total.\n"
     ]
    }
   ],
   "source": [
    "object_data=alldata['object']\n",
    "print(object_data)\n",
    "print('')\n",
    "print('There are',len(object_data),'objects in total.')"
   ]
  },
  {
   "cell_type": "markdown",
   "metadata": {},
   "source": [
    "Now, we'll try to make things a bit clearer with the columns."
   ]
  },
  {
   "cell_type": "code",
   "execution_count": 12,
   "metadata": {
    "collapsed": false
   },
   "outputs": [],
   "source": [
    "cos=table[1].columns"
   ]
  },
  {
   "cell_type": "markdown",
   "metadata": {},
   "source": [
    "Let's have a look at a few columns :"
   ]
  },
  {
   "cell_type": "code",
   "execution_count": 13,
   "metadata": {
    "collapsed": false
   },
   "outputs": [
    {
     "name": "stdout",
     "output_type": "stream",
     "text": [
      "ColDefs(\n",
      "    name = 'UPPER_SI2'; format = 'I'; null = -1\n",
      "    name = 'E_SI2'; format = 'E'; unit = 'dex'\n",
      "    name = 'NN_SI2'; format = 'I'; null = -1\n",
      "    name = 'ENN_SI2'; format = 'E'; unit = 'dex'\n",
      "    name = 'NL_SI2'; format = 'I'; null = -1\n",
      ")\n"
     ]
    }
   ],
   "source": [
    "print(cos[200:205])"
   ]
  },
  {
   "cell_type": "markdown",
   "metadata": {},
   "source": [
    "This looks more helpful than what we had before."
   ]
  },
  {
   "cell_type": "markdown",
   "metadata": {},
   "source": [
    "The entire table can now be manipulated and editted :"
   ]
  },
  {
   "cell_type": "code",
   "execution_count": 14,
   "metadata": {
    "collapsed": false
   },
   "outputs": [],
   "source": [
    "header1[13]='MODIFIED!'"
   ]
  },
  {
   "cell_type": "code",
   "execution_count": 15,
   "metadata": {
    "collapsed": false
   },
   "outputs": [
    {
     "data": {
      "text/plain": [
       "TFORM1  = '16A     '           /data format of field: ASCII Character           \n",
       "TTYPE2  = 'GES_FLD '           /GES field name from CASU                        \n",
       "TFORM2  = '12A     '           /data format of field: ASCII Character           \n",
       "TTYPE3  = 'MODIFIED!'          / GES object name from OB                        \n",
       "TFORM3  = '32A     '           /data format of field: ASCII Character           "
      ]
     },
     "execution_count": 15,
     "metadata": {},
     "output_type": "execute_result"
    }
   ],
   "source": [
    "header1[10:15]"
   ]
  },
  {
   "cell_type": "code",
   "execution_count": 16,
   "metadata": {
    "collapsed": true
   },
   "outputs": [],
   "source": [
    "header1[13]='OBJECT'"
   ]
  },
  {
   "cell_type": "markdown",
   "metadata": {},
   "source": [
    "The data can also be manipulated :"
   ]
  },
  {
   "cell_type": "code",
   "execution_count": 17,
   "metadata": {
    "collapsed": false
   },
   "outputs": [
    {
     "data": {
      "text/plain": [
       "-0.87585694628788524"
      ]
     },
     "execution_count": 17,
     "metadata": {},
     "output_type": "execute_result"
    }
   ],
   "source": [
    "alldata['NL_SI2'].mean()"
   ]
  },
  {
   "cell_type": "code",
   "execution_count": 18,
   "metadata": {
    "collapsed": false
   },
   "outputs": [],
   "source": [
    "# alldata['NL_SI2'][:]=-1"
   ]
  },
  {
   "cell_type": "code",
   "execution_count": 19,
   "metadata": {
    "collapsed": false
   },
   "outputs": [
    {
     "data": {
      "text/plain": [
       "-0.87585694628788524"
      ]
     },
     "execution_count": 19,
     "metadata": {},
     "output_type": "execute_result"
    }
   ],
   "source": [
    "alldata['NL_SI2'].mean()"
   ]
  },
  {
   "cell_type": "markdown",
   "metadata": {},
   "source": [
    "_______"
   ]
  },
  {
   "cell_type": "markdown",
   "metadata": {},
   "source": [
    "We now write down the table into a new file."
   ]
  },
  {
   "cell_type": "code",
   "execution_count": 20,
   "metadata": {
    "collapsed": false
   },
   "outputs": [],
   "source": [
    "#table.writeto('first_try.fits')"
   ]
  },
  {
   "cell_type": "markdown",
   "metadata": {},
   "source": [
    "___"
   ]
  },
  {
   "cell_type": "markdown",
   "metadata": {},
   "source": [
    "Let's try out a few useful tools."
   ]
  },
  {
   "cell_type": "code",
   "execution_count": 21,
   "metadata": {
    "collapsed": true
   },
   "outputs": [],
   "source": [
    "from pyfits import getheader"
   ]
  },
  {
   "cell_type": "code",
   "execution_count": 22,
   "metadata": {
    "collapsed": false
   },
   "outputs": [
    {
     "name": "stderr",
     "output_type": "stream",
     "text": [
      "C:\\Users\\Frédérick\\Anaconda3\\lib\\site-packages\\pyfits\\util.py:893: UserWarning: Could not find appropriate MS Visual C Runtime library or library is corrupt/misconfigured; cannot determine whether your file object was opened in append mode.  Please consider using a file object opened in write mode instead.\n",
      "  'Could not find appropriate MS Visual C Runtime '\n"
     ]
    },
    {
     "data": {
      "text/plain": [
       "SIMPLE  =                    T / Written by IDL:  Thu Aug 24 02:57:10 2017      \n",
       "BITPIX  =                    8 / Number of bits per data pixel                  \n",
       "NAXIS   =                    0 / Number of data axes                            \n",
       "EXTEND  =                    T / FITS data may contain extensions               \n",
       "COMMENT FITS (Flexible Image Transport System) format is defined in 'Astronomy  \n",
       "COMMENT and Astrophysics', volume 376, page 359; bibcode 2001A&A...376..359H    \n",
       "COMMENT -------------------------------------------------------------------     \n",
       "COMMENT GES iDR5 WG15 Recommended                                               \n",
       "RELEASE = 'iDR5    '           /Data release tag                                \n",
       "DATETAB = '2017-08-24'         /Date of production of table                     \n",
       "INSTRUME= 'GIRAFFE '           /FLAMES instrument for this table                \n",
       "NODE1   = 'WG15    '           /Node which produced this file                   \n",
       "NODE2   = 'WG10    '           /Node which produced this file                   \n",
       "NODE3   = 'WG11    '           /Node which produced this file                   \n",
       "NODE4   = 'WG12    '           /Node which produced this file                   \n",
       "NODE5   = 'WG13    '           /Node which produced this file                   \n",
       "NODE6   = 'WG14    '           /Node which produced this file                   "
      ]
     },
     "execution_count": 22,
     "metadata": {},
     "output_type": "execute_result"
    }
   ],
   "source": [
    "getheader('first_try.fits')"
   ]
  },
  {
   "cell_type": "code",
   "execution_count": 23,
   "metadata": {
    "collapsed": true
   },
   "outputs": [],
   "source": [
    "from pyfits import getval"
   ]
  },
  {
   "cell_type": "code",
   "execution_count": 24,
   "metadata": {
    "collapsed": false
   },
   "outputs": [
    {
     "name": "stderr",
     "output_type": "stream",
     "text": [
      "C:\\Users\\Frédérick\\Anaconda3\\lib\\site-packages\\pyfits\\util.py:893: UserWarning: Could not find appropriate MS Visual C Runtime library or library is corrupt/misconfigured; cannot determine whether your file object was opened in append mode.  Please consider using a file object opened in write mode instead.\n",
      "  'Could not find appropriate MS Visual C Runtime '\n"
     ]
    },
    {
     "data": {
      "text/plain": [
       "'GIRAFFE'"
      ]
     },
     "execution_count": 24,
     "metadata": {},
     "output_type": "execute_result"
    }
   ],
   "source": [
    "getval('first_try.fits','instrume')"
   ]
  },
  {
   "cell_type": "code",
   "execution_count": 25,
   "metadata": {
    "collapsed": true
   },
   "outputs": [],
   "source": [
    "from pyfits import getdata"
   ]
  },
  {
   "cell_type": "code",
   "execution_count": 26,
   "metadata": {
    "collapsed": false
   },
   "outputs": [
    {
     "name": "stderr",
     "output_type": "stream",
     "text": [
      "C:\\Users\\Frédérick\\Anaconda3\\lib\\site-packages\\pyfits\\util.py:893: UserWarning: Could not find appropriate MS Visual C Runtime library or library is corrupt/misconfigured; cannot determine whether your file object was opened in append mode.  Please consider using a file object opened in write mode instead.\n",
      "  'Could not find appropriate MS Visual C Runtime '\n"
     ]
    }
   ],
   "source": [
    "ftry_data=getdata('first_try.fits')"
   ]
  },
  {
   "cell_type": "code",
   "execution_count": 27,
   "metadata": {
    "collapsed": false
   },
   "outputs": [
    {
     "data": {
      "text/plain": [
       "<bound method HDUList.close of [<pyfits.hdu.image.PrimaryHDU object at 0x000000788D3910B8>, <pyfits.hdu.table.BinTableHDU object at 0x000000788D3F0F60>, <pyfits.hdu.table.BinTableHDU object at 0x000000788D42E978>]>"
      ]
     },
     "execution_count": 27,
     "metadata": {},
     "output_type": "execute_result"
    }
   ],
   "source": [
    "table.close"
   ]
  },
  {
   "cell_type": "markdown",
   "metadata": {},
   "source": [
    "_________"
   ]
  },
  {
   "cell_type": "markdown",
   "metadata": {
    "collapsed": true
   },
   "source": [
    "#### Création de graphes abondance/métallicité\n",
    "_______"
   ]
  },
  {
   "cell_type": "code",
   "execution_count": 28,
   "metadata": {
    "collapsed": false
   },
   "outputs": [],
   "source": [
    "import numpy\n",
    "from matplotlib import pyplot\n",
    "%matplotlib inline\n",
    "from matplotlib import rcParams\n",
    "rcParams['font.family'] = 'serif'\n",
    "rcParams['font.size'] = 16"
   ]
  },
  {
   "cell_type": "markdown",
   "metadata": {},
   "source": [
    "Let's print the name of the columns in the more practical way :"
   ]
  },
  {
   "cell_type": "code",
   "execution_count": 29,
   "metadata": {
    "collapsed": false
   },
   "outputs": [
    {
     "data": {
      "text/plain": [
       "XTENSION= 'BINTABLE'           /Written by IDL:  Mon Aug 14 10:55:37 2017       \n",
       "BITPIX  =                    8 /                                                \n",
       "NAXIS   =                    2 /Binary table                                    \n",
       "NAXIS1  =                 4710 /Number of bytes per row                         \n",
       "NAXIS2  =                82123 /Number of rows                                  \n",
       "PCOUNT  =                    0 /Random parameter count                          \n",
       "GCOUNT  =                    1 /Group count                                     \n",
       "TFIELDS =                  518 /Number of columns                               \n",
       "EXTNAME = 'WGParametersWGAbundances' /Extension name                            \n",
       "TTYPE1  = 'CNAME   '           /GES object name from coordinates                \n",
       "TFORM1  = '16A     '           /data format of field: ASCII Character           \n",
       "TTYPE2  = 'GES_FLD '           /GES field name from CASU                        \n",
       "TFORM2  = '12A     '           /data format of field: ASCII Character           \n",
       "TTYPE3  = 'OBJECT  '           / GES object name from OB                        \n",
       "TFORM3  = '32A     '           /data format of field: ASCII Character           \n",
       "TTYPE4  = 'FILENAME'           /Spectral file(s) used for Recommended Result    \n",
       "TFORM4  = '745A    '           /data format of field: ASCII Character           \n",
       "TTYPE5  = 'GES_TYPE'           /GES Classification System of Target Programmes  \n",
       "TFORM5  = '26A     '           /data format of field: ASCII Character           \n",
       "TTYPE6  = 'REC_SETUP'          /Recommended Parameters taken from this Setup    \n",
       "TFORM6  = '44A     '           /data format of field: ASCII Character           \n",
       "TTYPE7  = 'RAVAIL_SETUP'       /Results available from these Setups             \n",
       "TFORM7  = '70A     '           /data format of field: ASCII Character           \n",
       "TTYPE8  = 'SETUP   '           /These Grating Setups available for analysis     \n",
       "TFORM8  = '85A     '           /data format of field: ASCII Character           \n",
       "TTYPE9  = 'REC_WG  '           /Recommended Results from this GES Working Group \n",
       "TFORM9  = '4A      '           /data format of field: ASCII Character           \n",
       "TTYPE10 = 'RAVAIL_WG'          /Results available from these WGs                \n",
       "TFORM10 = '19A     '           /data format of field: ASCII Character           \n",
       "TTYPE11 = 'WG      '           /GES Working Group associated to Setup           \n",
       "TFORM11 = '19A     '           /data format of field: ASCII Character           \n",
       "TTYPE12 = 'RA      '           /Object Right Ascension                          \n",
       "TFORM12 = 'D       '           /data format of field: 8-byte DOUBLE             \n",
       "TUNIT12 = 'Degrees '           /physical unit of field                          \n",
       "TTYPE13 = 'DEC     '           /Object Declination                              \n",
       "TFORM13 = 'D       '           /data format of field: 8-byte DOUBLE             \n",
       "TUNIT13 = 'Degrees '           /physical unit of field                          \n",
       "TTYPE14 = 'SNR     '           /S/N ratio from CASU/Arcetri pipeline            \n",
       "TFORM14 = 'E       '           /data format of field: 4-byte REAL               \n",
       "TTYPE15 = 'TEFF    '           /Effective Temperature                           \n",
       "TFORM15 = 'E       '           /data format of field: 4-byte REAL               \n",
       "TUNIT15 = 'K       '           /physical unit of field                          \n",
       "TTYPE16 = 'E_TEFF  '           /Error on TEFF                                   \n",
       "TFORM16 = 'E       '           /data format of field: 4-byte REAL               \n",
       "TUNIT16 = 'K       '           /physical unit of field                          \n",
       "TTYPE17 = 'NN_TEFF '           /Number of Node results used for TEFF            \n",
       "TFORM17 = 'I       '           /data format of field: 2-byte INTEGER            \n",
       "TNULL17 =                   -1 /NULL value column 17                            \n",
       "TTYPE18 = 'ENN_TEFF'           /Error on TEFF from Node errors                  \n",
       "TFORM18 = 'E       '           /data format of field: 4-byte REAL               \n",
       "TUNIT18 = 'K       '           /physical unit of field                          \n",
       "TTYPE19 = 'NNE_TEFF'           /Number of Node results used for ENN_TEFF        \n",
       "TFORM19 = 'I       '           /data format of field: 2-byte INTEGER            \n",
       "TNULL19 =                   -1 /NULL value column 19                            \n",
       "TTYPE20 = 'SYS_ERR_TEFF'       /Systematic Error of the Effective Temperature   \n",
       "TFORM20 = 'E       '           /data format of field: 4-byte REAL               \n",
       "TUNIT20 = 'K       '           /physical unit of field                          \n",
       "TTYPE21 = 'LOGG    '           /Log Surface Gravity (gravity in cms$^{-2}$)     \n",
       "TFORM21 = 'E       '           /data format of field: 4-byte REAL               \n",
       "TUNIT21 = 'dex     '           /physical unit of field                          \n",
       "TTYPE22 = 'E_LOGG  '           /Error on LOGG                                   \n",
       "TFORM22 = 'E       '           /data format of field: 4-byte REAL               \n",
       "TUNIT22 = 'dex     '           /physical unit of field                          \n",
       "TTYPE23 = 'NN_LOGG '           /Number of node results used for LOGG            \n",
       "TFORM23 = 'I       '           /data format of field: 2-byte INTEGER            \n",
       "TNULL23 =                   -1 /NULL value column 23                            \n",
       "TTYPE24 = 'ENN_LOGG'           /Error on LOGG from Node errors                  \n",
       "TFORM24 = 'E       '           /data format of field: 4-byte REAL               \n",
       "TUNIT24 = 'dex     '           /physical unit of field                          \n",
       "TTYPE25 = 'NNE_LOGG'           /Number of node results used for ENN_LOGG        \n",
       "TFORM25 = 'I       '           /data format of field: 2-byte INTEGER            \n",
       "TNULL25 =                   -1 /NULL value column 25                            \n",
       "TTYPE26 = 'SYS_ERR_LOGG'       /Systematic Error of the Log Surface Gravity     \n",
       "TFORM26 = 'E       '           /data format of field: 4-byte REAL               \n",
       "TUNIT26 = 'dex     '           /physical unit of field                          \n",
       "TTYPE27 = 'LIM_LOGG'           /Flag on LOGG                                    \n",
       "TFORM27 = 'I       '           /data format of field: 2-byte INTEGER            \n",
       "TNULL27 =                   -1 /NULL value column 27                            \n",
       "TTYPE28 = 'FEH     '           /Metallicity from Fe lines                       \n",
       "TFORM28 = 'E       '           /data format of field: 4-byte REAL               \n",
       "TUNIT28 = 'dex     '           /physical unit of field                          \n",
       "TTYPE29 = 'E_FEH   '           /Error on FEH                                    \n",
       "TFORM29 = 'E       '           /data format of field: 4-byte REAL               \n",
       "TUNIT29 = 'dex     '           /physical unit of field                          \n",
       "TTYPE30 = 'NN_FEH  '           /Number of node results used for FEH             \n",
       "TFORM30 = 'I       '           /data format of field: 2-byte INTEGER            \n",
       "TNULL30 =                   -1 /NULL value column 30                            \n",
       "TTYPE31 = 'ENN_FEH '           /Error on FEH from Node errors                   \n",
       "TFORM31 = 'E       '           /data format of field: 4-byte REAL               \n",
       "TUNIT31 = 'dex     '           /physical unit of field                          \n",
       "TTYPE32 = 'NNE_FEH '           /Number of node results used for ENN_FEH         \n",
       "TFORM32 = 'I       '           /data format of field: 2-byte INTEGER            \n",
       "TNULL32 =                   -1 /NULL value column 32                            \n",
       "TTYPE33 = 'SYS_ERR_FEH'        /Systematic Error of the Metallicity from Fe line\n",
       "TFORM33 = 'E       '           /data format of field: 4-byte REAL               \n",
       "TUNIT33 = 'dex     '           /physical unit of field                          \n",
       "TTYPE34 = 'XI      '           /Microturbulence                                 \n",
       "TFORM34 = 'E       '           /data format of field: 4-byte REAL               \n",
       "TUNIT34 = 'km/s    '           /physical unit of field                          \n",
       "TTYPE35 = 'E_XI    '           /Error on XI                                     \n",
       "TFORM35 = 'E       '           /data format of field: 4-byte REAL               \n",
       "TUNIT35 = 'km/s    '           /physical unit of field                          \n",
       "TTYPE36 = 'NN_XI   '           /Number of Node results used for XI              \n",
       "TFORM36 = 'I       '           /data format of field: 2-byte INTEGER            \n",
       "TNULL36 =                   -1 /NULL value column 36                            \n",
       "TTYPE37 = 'ENN_XI  '           /Error on XI from Node errors                    \n",
       "TFORM37 = 'E       '           /data format of field: 4-byte REAL               \n",
       "TUNIT37 = 'km/s    '           /physical unit of field                          \n",
       "TTYPE38 = 'NNE_XI  '           /Number of Node results used for ENN_XI          \n",
       "TFORM38 = 'I       '           /data format of field: 2-byte INTEGER            \n",
       "TNULL38 =                   -1 /NULL value column 38                            \n",
       "TTYPE39 = 'MH      '           /Global Metallicity from metal lines             \n",
       "TFORM39 = 'E       '           /data format of field: 4-byte REAL               \n",
       "TUNIT39 = 'dex     '           /physical unit of field                          \n",
       "TTYPE40 = 'E_MH    '           /Error on MH                                     \n",
       "TFORM40 = 'E       '           /data format of field: 4-byte REAL               \n",
       "TUNIT40 = 'dex     '           /physical unit of field                          \n",
       "TTYPE41 = 'NN_MH   '           /Number of Node results used for MH              \n",
       "TFORM41 = 'I       '           /data format of field: 2-byte INTEGER            \n",
       "TNULL41 =                   -1 /NULL value column 41                            \n",
       "TTYPE42 = 'ENN_MH  '           /Error on MH from Node errors                    \n",
       "TFORM42 = 'E       '           /data format of field: 4-byte REAL               \n",
       "TUNIT42 = 'dex     '           /physical unit of field                          \n",
       "TTYPE43 = 'NNE_MH  '           /Number of node results used for ENN_MH          \n",
       "TFORM43 = 'I       '           /data format of field: 2-byte INTEGER            \n",
       "TNULL43 =                   -1 /NULL value column 43                            \n",
       "TTYPE44 = 'ALPHA_FE'           /Global alpha element to Fe ratio                \n",
       "TFORM44 = 'E       '           /data format of field: 4-byte REAL               \n",
       "TUNIT44 = 'dex     '           /physical unit of field                          \n",
       "TTYPE45 = 'E_ALPHA_FE'         /Error on ALPHA_FE                               \n",
       "TFORM45 = 'E       '           /data format of field: 4-byte REAL               \n",
       "TUNIT45 = 'dex     '           /physical unit of field                          \n",
       "TTYPE46 = 'NN_ALPHA_FE'        /Number of Node results used for ALPHA_FE        \n",
       "TFORM46 = 'I       '           /data format of field: 2-byte INTEGER            \n",
       "TNULL46 =                   -1 /NULL value column 46                            \n",
       "TTYPE47 = 'ENN_ALPHA_FE'       /Error on ALPHA_FE from Node errors              \n",
       "TFORM47 = 'E       '           /data format of field: 4-byte REAL               \n",
       "TUNIT47 = 'dex     '           /physical unit of field                          \n",
       "TTYPE48 = 'NNE_ALPHA_FE'       /Number of node results used for ENN_ALPHA_FE    \n",
       "TFORM48 = 'I       '           /data format of field: 2-byte INTEGER            \n",
       "TNULL48 =                   -1 /NULL value column 48                            \n",
       "TTYPE49 = 'VRAD    '           /Recommended Radial Velocity                     \n",
       "TFORM49 = 'E       '           /data format of field: 4-byte REAL               \n",
       "TUNIT49 = 'km/s    '           /physical unit of field                          \n",
       "TTYPE50 = 'E_VRAD  '           /Error on VRAD                                   \n",
       "TFORM50 = 'E       '           /data format of field: 4-byte REAL               \n",
       "TUNIT50 = 'km/s    '           /physical unit of field                          \n",
       "TTYPE51 = 'PROV_VRAD'          /Provenance of VRAD & VSINI by source and Setup  \n",
       "TFORM51 = '48A     '           /data format of field: ASCII Character           \n",
       "TTYPE52 = 'VRAD_OFFSET'        /Offset of VRAD calculated per Setup to HR10     \n",
       "TFORM52 = 'E       '           /data format of field: 4-byte REAL               \n",
       "TUNIT52 = 'km/s    '           /physical unit of field                          \n",
       "TTYPE53 = 'VRAD_FILENAME'      /Spectral file(s) used for Recommended VRAD      \n",
       "TFORM53 = '388A    '           /data format of field: ASCII Character           \n",
       "TTYPE54 = 'VSINI   '           /Recommended Rotational Velocity                 \n",
       "TFORM54 = 'E       '           /data format of field: 4-byte REAL               \n",
       "TUNIT54 = 'km/s    '           /physical unit of field                          \n",
       "TTYPE55 = 'E_VSINI '           /Error on VSINI                                  \n",
       "TFORM55 = 'E       '           /data format of field: 4-byte REAL               \n",
       "TUNIT55 = 'km/s    '           /physical unit of field                          \n",
       "TTYPE56 = 'LIM_VSINI'          /Flag on upper limits of VSINI                   \n",
       "TFORM56 = 'I       '           /data format of field: 2-byte INTEGER            \n",
       "TNULL56 =                   -1 /NULL value column 56                            \n",
       "TTYPE57 = 'TEFF_PHOT'          /Photometric Effective Temperature               \n",
       "TFORM57 = 'E       '           /data format of field: 4-byte REAL               \n",
       "TUNIT57 = 'K       '           /physical unit of field                          \n",
       "TTYPE58 = 'E_TEFF_PHOT'        /Error on TEFF_PHOT                              \n",
       "TFORM58 = 'E       '           /data format of field: 4-byte REAL               \n",
       "TUNIT58 = 'K       '           /physical unit of field                          \n",
       "TTYPE59 = 'TEFF_IRFM'          /IRFM weighed average from 2MASS J,H,Ks Bands    \n",
       "TFORM59 = 'E       '           /data format of field: 4-byte REAL               \n",
       "TUNIT59 = 'K       '           /physical unit of field                          \n",
       "TTYPE60 = 'E_TEFF_IRFM'        /Error on TEFF_IRFM                              \n",
       "TFORM60 = 'E       '           /data format of field: 4-byte REAL               \n",
       "TUNIT60 = 'K       '           /physical unit of field                          \n",
       "TTYPE61 = 'FBOL_IRFM'          /Bolometric Flux from 2MASS                      \n",
       "TFORM61 = 'E       '           /data format of field: 4-byte REAL               \n",
       "TUNIT61 = 'K       '           /physical unit of field                          \n",
       "TTYPE62 = 'HE1     '           /Neutral Helium Abundance                        \n",
       "TFORM62 = 'E       '           /data format of field: 4-byte REAL               \n",
       "TUNIT62 = 'dex     '           /physical unit of field                          \n",
       "TTYPE63 = 'UPPER_COMBINED_HE1' /Flag on HE1 measurement type                    \n",
       "TFORM63 = 'I       '           /data format of field: 2-byte INTEGER            \n",
       "TNULL63 =                   -1 /NULL value column 63                            \n",
       "TTYPE64 = 'E_HE1   '           /Error on HE1                                    \n",
       "TFORM64 = 'E       '           /data format of field: 4-byte REAL               \n",
       "TUNIT64 = 'dex     '           /physical unit of field                          \n",
       "TTYPE65 = 'NN_HE1  '           /Number of Node results used for HE1             \n",
       "TFORM65 = 'I       '           /data format of field: 2-byte INTEGER            \n",
       "TNULL65 =                   -1 /NULL value column 65                            \n",
       "TTYPE66 = 'ENN_HE1 '           /Error on HE1 from Node errors                   \n",
       "TFORM66 = 'E       '           /data format of field: 4-byte REAL               \n",
       "TUNIT66 = 'dex     '           /physical unit of field                          \n",
       "TTYPE67 = 'NL_HE1  '           /Number of Spectral Lines used for HE1           \n",
       "TFORM67 = 'I       '           /data format of field: 2-byte INTEGER            \n",
       "TNULL67 =                   -1 /NULL value column 67                            \n",
       "TTYPE68 = 'PROVENANCE_HE1'     /WG from which HE1 is sourced                    \n",
       "TFORM68 = '4A      '           /data format of field: ASCII Character           \n",
       "TTYPE69 = 'LI1     '           /Neutral Lithium Abundance in log$\\epsilon$(X)   \n",
       "TFORM69 = 'E       '           /data format of field: 4-byte REAL               \n",
       "TUNIT69 = 'dex     '           /physical unit of field                          \n",
       "TTYPE70 = 'UPPER_COMBINED_LI1' /Flag on LI1 measurement type                    \n",
       "TFORM70 = 'I       '           /data format of field: 2-byte INTEGER            \n",
       "TNULL70 =                   -1 /NULL value column 70                            \n",
       "TTYPE71 = 'E_LI1   '           /Error on LI1                                    \n",
       "TFORM71 = 'E       '           /data format of field: 4-byte REAL               \n",
       "TUNIT71 = 'dex     '           /physical unit of field                          \n",
       "TTYPE72 = 'NN_LI1  '           /Number of Node results used for LI1             \n",
       "TFORM72 = 'I       '           /data format of field: 2-byte INTEGER            \n",
       "TNULL72 =                   -1 /NULL value column 72                            \n",
       "TTYPE73 = 'ENN_LI1 '           /Error on LI1 from Node errors                   \n",
       "TFORM73 = 'E       '           /data format of field: 4-byte REAL               \n",
       "TUNIT73 = 'dex     '           /physical unit of field                          \n",
       "TTYPE74 = 'NL_LI1  '           /Number of Spectral Lines used for LI1           \n",
       "TFORM74 = 'I       '           /data format of field: 2-byte INTEGER            \n",
       "TNULL74 =                   -1 /NULL value column 74                            \n",
       "TTYPE75 = 'PROVENANCE_LI1'     /WG from which LI1 is sourced                    \n",
       "TFORM75 = '4A      '           /data format of field: ASCII Character           \n",
       "TTYPE76 = 'C1      '           /Neutral Carbon Abundance                        \n",
       "TFORM76 = 'E       '           /data format of field: 4-byte REAL               \n",
       "TUNIT76 = 'dex     '           /physical unit of field                          \n",
       "TTYPE77 = 'UPPER_COMBINED_C1'  /Flag on C1 measurement type                     \n",
       "TFORM77 = 'I       '           /data format of field: 2-byte INTEGER            \n",
       "TNULL77 =                   -1 /NULL value column 77                            \n",
       "TTYPE78 = 'E_C1    '           /Error on C1                                     \n",
       "TFORM78 = 'E       '           /data format of field: 4-byte REAL               \n",
       "TUNIT78 = 'dex     '           /physical unit of field                          \n",
       "TTYPE79 = 'NN_C1   '           /Number of Node results used for C1              \n",
       "TFORM79 = 'I       '           /data format of field: 2-byte INTEGER            \n",
       "TNULL79 =                   -1 /NULL value column 79                            \n",
       "TTYPE80 = 'ENN_C1  '           /Error on C1 from Node errors                    \n",
       "TFORM80 = 'E       '           /data format of field: 4-byte REAL               \n",
       "TUNIT80 = 'dex     '           /physical unit of field                          \n",
       "TTYPE81 = 'NL_C1   '           /Number of Spectral lines used for C1            \n",
       "TFORM81 = 'I       '           /data format of field: 2-byte INTEGER            \n",
       "TNULL81 =                   -1 /NULL value column 81                            \n",
       "TTYPE82 = 'PROVENANCE_C1'      /WG from which C1 is sourced                     \n",
       "TFORM82 = '4A      '           /data format of field: ASCII Character           \n",
       "TTYPE83 = 'C2      '           /Ionised Carbon Abundance                        \n",
       "TFORM83 = 'E       '           /data format of field: 4-byte REAL               \n",
       "TUNIT83 = 'dex     '           /physical unit of field                          \n",
       "TTYPE84 = 'UPPER_C2'           /Flag on C2 measurement type                     \n",
       "TFORM84 = 'I       '           /data format of field: 2-byte INTEGER            \n",
       "TNULL84 =                   -1 /NULL value column 84                            \n",
       "TTYPE85 = 'E_C2    '           /Error on C2                                     \n",
       "TFORM85 = 'E       '           /data format of field: 4-byte REAL               \n",
       "TUNIT85 = 'dex     '           /physical unit of field                          \n",
       "TTYPE86 = 'NN_C2   '           /Number of Node results used for C2              \n",
       "TFORM86 = 'I       '           /data format of field: 2-byte INTEGER            \n",
       "TNULL86 =                   -1 /NULL value column 86                            \n",
       "TTYPE87 = 'ENN_C2  '           /Error on C2 from Node errors                    \n",
       "TFORM87 = 'E       '           /data format of field: 4-byte REAL               \n",
       "TUNIT87 = 'dex     '           /physical unit of field                          \n",
       "TTYPE88 = 'NL_C2   '           /Number of Spectral lines used for C2            \n",
       "TFORM88 = 'I       '           /data format of field: 2-byte INTEGER            \n",
       "TNULL88 =                   -1 /NULL value column 88                            \n",
       "TTYPE89 = 'PROVENANCE_C2'      /WG from which C2 is sourced                     \n",
       "TFORM89 = '4A      '           /data format of field: ASCII Character           \n",
       "TTYPE90 = 'C3      '           /Doubly Ionised Carbon Abundance                 \n",
       "TFORM90 = 'E       '           /data format of field: 4-byte REAL               \n",
       "TUNIT90 = 'dex     '           /physical unit of field                          \n",
       "TTYPE91 = 'UPPER_C3'           /Flag on C3 measurement type                     \n",
       "TFORM91 = 'I       '           /data format of field: 2-byte INTEGER            \n",
       "TNULL91 =                   -1 /NULL value column 91                            \n",
       "TTYPE92 = 'E_C3    '           /Error on C3                                     \n",
       "TFORM92 = 'E       '           /data format of field: 4-byte REAL               \n",
       "TUNIT92 = 'dex     '           /physical unit of field                          \n",
       "TTYPE93 = 'NN_C3   '           /Number of Node results used for C3              \n",
       "TFORM93 = 'I       '           /data format of field: 2-byte INTEGER            \n",
       "TNULL93 =                   -1 /NULL value column 93                            \n",
       "TTYPE94 = 'ENN_C3  '           /Error on C3 from Node errors                    \n",
       "TFORM94 = 'E       '           /data format of field: 4-byte REAL               \n",
       "TUNIT94 = 'dex     '           /physical unit of field                          \n",
       "TTYPE95 = 'NL_C3   '           /Number of Spectral lines used for C3            \n",
       "TFORM95 = 'I       '           /data format of field: 2-byte INTEGER            \n",
       "TNULL95 =                   -1 /NULL value column 95                            \n",
       "TTYPE96 = 'PROVENANCE_C3'      /WG from which C3 is sourced                     \n",
       "TFORM96 = '4A      '           /data format of field: ASCII Character           \n",
       "TTYPE97 = 'C_C2    '           /Carbon Abundance from C2 Molecular Bands        \n",
       "TFORM97 = 'E       '           /data format of field: 4-byte REAL               \n",
       "TUNIT97 = 'dex     '           /physical unit of field                          \n",
       "TTYPE98 = 'UPPER_C_C2'         /Flag on C_C2 measurement type                   \n",
       "TFORM98 = 'I       '           /data format of field: 2-byte INTEGER            \n",
       "TNULL98 =                   -1 /NULL value column 98                            \n",
       "TTYPE99 = 'E_C_C2  '           /Error on C_C2                                   \n",
       "TFORM99 = 'E       '           /data format of field: 4-byte REAL               \n",
       "TUNIT99 = 'dex     '           /physical unit of field                          \n",
       "TTYPE100= 'NN_C_C2 '           /Number of Node results used for C_C2            \n",
       "TFORM100= 'I       '           /data format of field: 2-byte INTEGER            \n",
       "TNULL100=                   -1 /NULL value column 100                           \n",
       "TTYPE101= 'ENN_C_C2'           /Error on C_C2 from Node errors                  \n",
       "TFORM101= 'E       '           /data format of field: 4-byte REAL               \n",
       "TUNIT101= 'dex     '           /physical unit of field                          \n",
       "TTYPE102= 'NL_C_C2 '           /Number of Molecular Bands used for C_C2         \n",
       "TFORM102= 'I       '           /data format of field: 2-byte INTEGER            \n",
       "TNULL102=                   -1 /NULL value column 102                           \n",
       "TTYPE103= 'PROVENANCE_C_C2'    /WG from which C_C2 is sourced                   \n",
       "TFORM103= '4A      '           /data format of field: ASCII Character           \n",
       "TTYPE104= 'N2      '           /Ionised Nitrogen Abundance                      \n",
       "TFORM104= 'E       '           /data format of field: 4-byte REAL               \n",
       "TUNIT104= 'dex     '           /physical unit of field                          \n",
       "TTYPE105= 'UPPER_N2'           /Flag on N2 measurement type                     \n",
       "TFORM105= 'I       '           /data format of field: 2-byte INTEGER            \n",
       "TNULL105=                   -1 /NULL value column 105                           \n",
       "TTYPE106= 'E_N2    '           /Error on N2                                     \n",
       "TFORM106= 'E       '           /data format of field: 4-byte REAL               \n",
       "TUNIT106= 'dex     '           /physical unit of field                          \n",
       "TTYPE107= 'NN_N2   '           /Number of Node results used for N2              \n",
       "TFORM107= 'I       '           /data format of field: 2-byte INTEGER            \n",
       "TNULL107=                   -1 /NULL value column 107                           \n",
       "TTYPE108= 'ENN_N2  '           /Error on N2 from Node errors                    \n",
       "TFORM108= 'E       '           /data format of field: 4-byte REAL               \n",
       "TUNIT108= 'dex     '           /physical unit of field                          \n",
       "TTYPE109= 'NL_N2   '           /Number of Spectral lines used for N2            \n",
       "TFORM109= 'I       '           /data format of field: 2-byte INTEGER            \n",
       "TNULL109=                   -1 /NULL value column 109                           \n",
       "TTYPE110= 'PROVENANCE_N2'      /WG from which N2 is sourced                     \n",
       "TFORM110= 'A       '           /data format of field: ASCII Character           \n",
       "TTYPE111= 'N3      '           /Doubly Ionised Nitrogen Abundance               \n",
       "TFORM111= 'E       '           /data format of field: 4-byte REAL               \n",
       "TUNIT111= 'dex     '           /physical unit of field                          \n",
       "TTYPE112= 'UPPER_N3'           /Flag on N3 measurement type                     \n",
       "TFORM112= 'I       '           /data format of field: 2-byte INTEGER            \n",
       "TNULL112=                   -1 /NULL value column 112                           \n",
       "TTYPE113= 'E_N3    '           /Error on N3                                     \n",
       "TFORM113= 'E       '           /data format of field: 4-byte REAL               \n",
       "TUNIT113= 'dex     '           /physical unit of field                          \n",
       "TTYPE114= 'NN_N3   '           /Number of Node results used for N3              \n",
       "TFORM114= 'I       '           /data format of field: 2-byte INTEGER            \n",
       "TNULL114=                   -1 /NULL value column 114                           \n",
       "TTYPE115= 'ENN_N3  '           /Error on N3 from Node errors                    \n",
       "TFORM115= 'E       '           /data format of field: 4-byte REAL               \n",
       "TUNIT115= 'dex     '           /physical unit of field                          \n",
       "TTYPE116= 'NL_N3   '           /Number of Spectral lines used for N3            \n",
       "TFORM116= 'I       '           /data format of field: 2-byte INTEGER            \n",
       "TNULL116=                   -1 /NULL value column 116                           \n",
       "TTYPE117= 'PROVENANCE_N3'      /WG from which N3 is sourced                     \n",
       "TFORM117= '4A      '           /data format of field: ASCII Character           \n",
       "TTYPE118= 'N_CN    '           /Nitrogen Abundance from CN Molecular Bands      \n",
       "TFORM118= 'E       '           /data format of field: 4-byte REAL               \n",
       "TUNIT118= 'dex     '           /physical unit of field                          \n",
       "TTYPE119= 'UPPER_N_CN'         /Flag on N_CN measurement type                   \n",
       "TFORM119= 'I       '           /data format of field: 2-byte INTEGER            \n",
       "TNULL119=                   -1 /NULL value column 119                           \n",
       "TTYPE120= 'E_N_CN  '           /Error on N_CN                                   \n",
       "TFORM120= 'E       '           /data format of field: 4-byte REAL               \n",
       "TUNIT120= 'dex     '           /physical unit of field                          \n",
       "TTYPE121= 'NN_N_CN '           /Number of Node results used for N_CN            \n",
       "TFORM121= 'I       '           /data format of field: 2-byte INTEGER            \n",
       "TNULL121=                   -1 /NULL value column 121                           \n",
       "TTYPE122= 'ENN_N_CN'           /Error on N_CN from Node errors                  \n",
       "TFORM122= 'E       '           /data format of field: 4-byte REAL               \n",
       "TUNIT122= 'dex     '           /physical unit of field                          \n",
       "TTYPE123= 'NL_N_CN '           /Number of Molecular Bands used for N_CN         \n",
       "TFORM123= 'I       '           /data format of field: 2-byte INTEGER            \n",
       "TNULL123=                   -1 /NULL value column 123                           \n",
       "TTYPE124= 'PROVENANCE_N_CN'    /WG from which N_CN is sourced                   \n",
       "TFORM124= '4A      '           /data format of field: ASCII Character           \n",
       "TTYPE125= 'O1      '           /Neutral Oxygen Abundance                        \n",
       "TFORM125= 'E       '           /data format of field: 4-byte REAL               \n",
       "TUNIT125= 'dex     '           /physical unit of field                          \n",
       "TTYPE126= 'UPPER_COMBINED_O1'  /Flag on O1 measurement type                     \n",
       "TFORM126= 'I       '           /data format of field: 2-byte INTEGER            \n",
       "TNULL126=                   -1 /NULL value column 126                           \n",
       "TTYPE127= 'E_O1    '           /Error on O1                                     \n",
       "TFORM127= 'E       '           /data format of field: 4-byte REAL               \n",
       "TUNIT127= 'dex     '           /physical unit of field                          \n",
       "TTYPE128= 'NN_O1   '           /Number of Node results used for O1              \n",
       "TFORM128= 'I       '           /data format of field: 2-byte INTEGER            \n",
       "TNULL128=                   -1 /NULL value column 128                           \n",
       "TTYPE129= 'ENN_O1  '           /Error on O1 from Node errors                    \n",
       "TFORM129= 'E       '           /data format of field: 4-byte REAL               \n",
       "TUNIT129= 'dex     '           /physical unit of field                          \n",
       "TTYPE130= 'NL_O1   '           /Number of Spectral lines used for O1            \n",
       "TFORM130= 'I       '           /data format of field: 2-byte INTEGER            \n",
       "TNULL130=                   -1 /NULL value column 130                           \n",
       "TTYPE131= 'PROVENANCE_O1'      /WG from which O1 is sourced                     \n",
       "TFORM131= '4A      '           /data format of field: ASCII Character           \n",
       "TTYPE132= 'O2      '           /Ionised Oxygen Abundance                        \n",
       "TFORM132= 'E       '           /data format of field: 4-byte REAL               \n",
       "TUNIT132= 'dex     '           /physical unit of field                          \n",
       "TTYPE133= 'UPPER_O2'           /Flag on O2 measurement type                     \n",
       "TFORM133= 'I       '           /data format of field: 2-byte INTEGER            \n",
       "TNULL133=                   -1 /NULL value column 133                           \n",
       "TTYPE134= 'E_O2    '           /Error on O2                                     \n",
       "TFORM134= 'E       '           /data format of field: 4-byte REAL               \n",
       "TUNIT134= 'dex     '           /physical unit of field                          \n",
       "TTYPE135= 'NN_O2   '           /Number of Node results used for O2              \n",
       "TFORM135= 'I       '           /data format of field: 2-byte INTEGER            \n",
       "TNULL135=                   -1 /NULL value column 135                           \n",
       "TTYPE136= 'ENN_O2  '           /Error on O2 from Node errors                    \n",
       "TFORM136= 'E       '           /data format of field: 4-byte REAL               \n",
       "TUNIT136= 'dex     '           /physical unit of field                          \n",
       "TTYPE137= 'NL_O2   '           /Number of Spectral lines used for O2            \n",
       "TFORM137= 'I       '           /data format of field: 2-byte INTEGER            \n",
       "TNULL137=                   -1 /NULL value column 137                           \n",
       "TTYPE138= 'PROVENANCE_O2'      /WG from which O2 is sourced                     \n",
       "TFORM138= '4A      '           /data format of field: ASCII Character           \n",
       "TTYPE139= 'NE1     '           /Neutral Neon Abundance                          \n",
       "TFORM139= 'E       '           /data format of field: 4-byte REAL               \n",
       "TUNIT139= 'dex     '           /physical unit of field                          \n",
       "TTYPE140= 'UPPER_COMBINED_NE1' /Flag on NE1 measurement type                    \n",
       "TFORM140= 'I       '           /data format of field: 2-byte INTEGER            \n",
       "TNULL140=                   -1 /NULL value column 140                           \n",
       "TTYPE141= 'E_NE1   '           /Error on NE1                                    \n",
       "TFORM141= 'E       '           /data format of field: 4-byte REAL               \n",
       "TUNIT141= 'dex     '           /physical unit of field                          \n",
       "TTYPE142= 'NN_NE1  '           /Number of Node results used for NE1             \n",
       "TFORM142= 'I       '           /data format of field: 2-byte INTEGER            \n",
       "TNULL142=                   -1 /NULL value column 142                           \n",
       "TTYPE143= 'ENN_NE1 '           /Error on NE1 from Node errors                   \n",
       "TFORM143= 'E       '           /data format of field: 4-byte REAL               \n",
       "TUNIT143= 'dex     '           /physical unit of field                          \n",
       "TTYPE144= 'NL_NE1  '           /Number of Spectral lines used for NE1           \n",
       "TFORM144= 'I       '           /data format of field: 2-byte INTEGER            \n",
       "TNULL144=                   -1 /NULL value column 144                           \n",
       "TTYPE145= 'PROVENANCE_NE1'     /WG from which NE1 is sourced                    \n",
       "TFORM145= 'A       '           /data format of field: ASCII Character           \n",
       "TTYPE146= 'NE2     '           /Ionised Neon Abundance                          \n",
       "TFORM146= 'E       '           /data format of field: 4-byte REAL               \n",
       "TUNIT146= 'dex     '           /physical unit of field                          \n",
       "TTYPE147= 'UPPER_NE2'          /Flag on NE2 measurement type                    \n",
       "TFORM147= 'I       '           /data format of field: 2-byte INTEGER            \n",
       "TNULL147=                   -1 /NULL value column 147                           \n",
       "TTYPE148= 'E_NE2   '           /Error on NE2                                    \n",
       "TFORM148= 'E       '           /data format of field: 4-byte REAL               \n",
       "TUNIT148= 'dex     '           /physical unit of field                          \n",
       "TTYPE149= 'NN_NE2  '           /Number of Node results used for NE2             \n",
       "TFORM149= 'I       '           /data format of field: 2-byte INTEGER            \n",
       "TNULL149=                   -1 /NULL value column 149                           \n",
       "TTYPE150= 'ENN_NE2 '           /Error on NE2 from Node errors                   \n",
       "TFORM150= 'E       '           /data format of field: 4-byte REAL               \n",
       "TUNIT150= 'dex     '           /physical unit of field                          \n",
       "TTYPE151= 'NL_NE2  '           /Number of Spectral lines used for NE2           \n",
       "TFORM151= 'I       '           /data format of field: 2-byte INTEGER            \n",
       "TNULL151=                   -1 /NULL value column 151                           \n",
       "TTYPE152= 'NA1     '           /Neutral Sodium Abundance                        \n",
       "TFORM152= 'E       '           /data format of field: 4-byte REAL               \n",
       "TUNIT152= 'dex     '           /physical unit of field                          \n",
       "TTYPE153= 'UPPER_COMBINED_NA1' /Flag on NA1 measurement type                    \n",
       "TFORM153= 'I       '           /data format of field: 2-byte INTEGER            \n",
       "TNULL153=                   -1 /NULL value column 153                           \n",
       "TTYPE154= 'E_NA1   '           /Error on NA1                                    \n",
       "TFORM154= 'E       '           /data format of field: 4-byte REAL               \n",
       "TUNIT154= 'dex     '           /physical unit of field                          \n",
       "TTYPE155= 'NN_NA1  '           /Number of Node results used for NA1             \n",
       "TFORM155= 'I       '           /data format of field: 2-byte INTEGER            \n",
       "TNULL155=                   -1 /NULL value column 155                           \n",
       "TTYPE156= 'ENN_NA1 '           /Error on NA1 from Node errors                   \n",
       "TFORM156= 'E       '           /data format of field: 4-byte REAL               \n",
       "TUNIT156= 'dex     '           /physical unit of field                          \n",
       "TTYPE157= 'NL_NA1  '           /Number of Spectral lines used for NA1           \n",
       "TFORM157= 'I       '           /data format of field: 2-byte INTEGER            \n",
       "TNULL157=                   -1 /NULL value column 157                           \n",
       "TTYPE158= 'PROVENANCE_NA1'     /WG from which NA1 is sourced                    \n",
       "TFORM158= '4A      '           /data format of field: ASCII Character           \n",
       "TTYPE159= 'MG1     '           /Neutral Magnesium Abundance                     \n",
       "TFORM159= 'E       '           /data format of field: 4-byte REAL               \n",
       "TUNIT159= 'dex     '           /physical unit of field                          \n",
       "TTYPE160= 'UPPER_COMBINED_MG1' /Flag on MG1 measurement type                    \n",
       "TFORM160= 'I       '           /data format of field: 2-byte INTEGER            \n",
       "TNULL160=                   -1 /NULL value column 160                           \n",
       "TTYPE161= 'E_MG1   '           /Error on MG1                                    \n",
       "TFORM161= 'E       '           /data format of field: 4-byte REAL               \n",
       "TUNIT161= 'dex     '           /physical unit of field                          \n",
       "TTYPE162= 'NN_MG1  '           /Number of Node results used for MG1             \n",
       "TFORM162= 'I       '           /data format of field: 2-byte INTEGER            \n",
       "TNULL162=                   -1 /NULL value column 162                           \n",
       "TTYPE163= 'ENN_MG1 '           /Error on MG1 from Node errors                   \n",
       "TFORM163= 'E       '           /data format of field: 4-byte REAL               \n",
       "TUNIT163= 'dex     '           /physical unit of field                          \n",
       "TTYPE164= 'NL_MG1  '           /Number of Spectral lines used for MG1           \n",
       "TFORM164= 'I       '           /data format of field: 2-byte INTEGER            \n",
       "TNULL164=                   -1 /NULL value column 164                           \n",
       "TTYPE165= 'PROVENANCE_MG1'     /WG from which MG1 is sourced                    \n",
       "TFORM165= '4A      '           /data format of field: ASCII Character           \n",
       "TTYPE166= 'MG2     '           /Ionised Magnesium Abundance                     \n",
       "TFORM166= 'E       '           /data format of field: 4-byte REAL               \n",
       "TUNIT166= 'dex     '           /physical unit of field                          \n",
       "TTYPE167= 'UPPER_MG2'          /Flag on MG2 measurement type                    \n",
       "TFORM167= 'I       '           /data format of field: 2-byte INTEGER            \n",
       "TNULL167=                   -1 /NULL value column 167                           \n",
       "TTYPE168= 'E_MG2   '           /Error on MG2                                    \n",
       "TFORM168= 'E       '           /data format of field: 4-byte REAL               \n",
       "TUNIT168= 'dex     '           /physical unit of field                          \n",
       "TTYPE169= 'NN_MG2  '           /Number of Node results used for MG2             \n",
       "TFORM169= 'I       '           /data format of field: 2-byte INTEGER            \n",
       "TNULL169=                   -1 /NULL value column 169                           \n",
       "TTYPE170= 'ENN_MG2 '           /Error on MG2 from Node errors                   \n",
       "TFORM170= 'E       '           /data format of field: 4-byte REAL               \n",
       "TUNIT170= 'dex     '           /physical unit of field                          \n",
       "TTYPE171= 'NL_MG2  '           /Number of Spectral lines used for MG2           \n",
       "TFORM171= 'I       '           /data format of field: 2-byte INTEGER            \n",
       "TNULL171=                   -1 /NULL value column 171                           \n",
       "TTYPE172= 'PROVENANCE_MG2'     /WG from which MG2 is sourced                    \n",
       "TFORM172= 'A       '           /data format of field: ASCII Character           \n",
       "TTYPE173= 'AL1     '           /Neutral Aluminium Abundance                     \n",
       "TFORM173= 'E       '           /data format of field: 4-byte REAL               \n",
       "TUNIT173= 'dex     '           /physical unit of field                          \n",
       "TTYPE174= 'UPPER_COMBINED_AL1' /Flag on AL1 measurement type                    \n",
       "TFORM174= 'I       '           /data format of field: 2-byte INTEGER            \n",
       "TNULL174=                   -1 /NULL value column 174                           \n",
       "TTYPE175= 'E_AL1   '           /Error on AL1                                    \n",
       "TFORM175= 'E       '           /data format of field: 4-byte REAL               \n",
       "TUNIT175= 'dex     '           /physical unit of field                          \n",
       "TTYPE176= 'NN_AL1  '           /Number of Node results used for AL1             \n",
       "TFORM176= 'I       '           /data format of field: 2-byte INTEGER            \n",
       "TNULL176=                   -1 /NULL value column 176                           \n",
       "TTYPE177= 'ENN_AL1 '           /Error on AL1 from Node errors                   \n",
       "TFORM177= 'E       '           /data format of field: 4-byte REAL               \n",
       "TUNIT177= 'dex     '           /physical unit of field                          \n",
       "TTYPE178= 'NL_AL1  '           /Number of Spectral Lines used for AL1           \n",
       "TFORM178= 'I       '           /data format of field: 2-byte INTEGER            \n",
       "TNULL178=                   -1 /NULL value column 178                           \n",
       "TTYPE179= 'PROVENANCE_AL1'     /WG from which AL1 is sourced                    \n",
       "TFORM179= '4A      '           /data format of field: ASCII Character           \n",
       "TTYPE180= 'AL2     '           /Ionised Aluminium Abundance                     \n",
       "TFORM180= 'E       '           /data format of field: 4-byte REAL               \n",
       "TUNIT180= 'dex     '           /physical unit of field                          \n",
       "TTYPE181= 'UPPER_AL2'          /Flag on AL2 measurement type                    \n",
       "TFORM181= 'I       '           /data format of field: 2-byte INTEGER            \n",
       "TNULL181=                   -1 /NULL value column 181                           \n",
       "TTYPE182= 'E_AL2   '           /Error on AL2                                    \n",
       "TFORM182= 'E       '           /data format of field: 4-byte REAL               \n",
       "TUNIT182= 'dex     '           /physical unit of field                          \n",
       "TTYPE183= 'NN_AL2  '           /Number of Node results used for AL2             \n",
       "TFORM183= 'I       '           /data format of field: 2-byte INTEGER            \n",
       "TNULL183=                   -1 /NULL value column 183                           \n",
       "TTYPE184= 'ENN_AL2 '           /Error on AL2 from Node errors                   \n",
       "TFORM184= 'E       '           /data format of field: 4-byte REAL               \n",
       "TUNIT184= 'dex     '           /physical unit of field                          \n",
       "TTYPE185= 'NL_AL2  '           /Number of Spectral Lines used for AL2           \n",
       "TFORM185= 'I       '           /data format of field: 2-byte INTEGER            \n",
       "TNULL185=                   -1 /NULL value column 185                           \n",
       "TTYPE186= 'PROVENANCE_AL2'     /WG from which AL2 is sourced                    \n",
       "TFORM186= '4A      '           /data format of field: ASCII Character           \n",
       "TTYPE187= 'AL3     '           /Doubly Ionised Aluminium Abundance              \n",
       "TFORM187= 'E       '           /data format of field: 4-byte REAL               \n",
       "TUNIT187= 'dex     '           /physical unit of field                          \n",
       "TTYPE188= 'UPPER_AL3'          /Flag on AL3 measurement type                    \n",
       "TFORM188= 'I       '           /data format of field: 2-byte INTEGER            \n",
       "TNULL188=                   -1 /NULL value column 188                           \n",
       "TTYPE189= 'E_AL3   '           /Error on AL3                                    \n",
       "TFORM189= 'E       '           /data format of field: 4-byte REAL               \n",
       "TUNIT189= 'dex     '           /physical unit of field                          \n",
       "TTYPE190= 'NN_AL3  '           /Number of Node results used for AL3             \n",
       "TFORM190= 'I       '           /data format of field: 2-byte INTEGER            \n",
       "TNULL190=                   -1 /NULL value column 190                           \n",
       "TTYPE191= 'ENN_AL3 '           /Error on AL3 from Node errors                   \n",
       "TFORM191= 'E       '           /data format of field: 4-byte REAL               \n",
       "TUNIT191= 'dex     '           /physical unit of field                          \n",
       "TTYPE192= 'NL_AL3  '           /Number of Spectral Lines used for AL3           \n",
       "TFORM192= 'I       '           /data format of field: 2-byte INTEGER            \n",
       "TNULL192=                   -1 /NULL value column 192                           \n",
       "TTYPE193= 'SI1     '           /Neutral Silicon Abundance                       \n",
       "TFORM193= 'E       '           /data format of field: 4-byte REAL               \n",
       "TUNIT193= 'dex     '           /physical unit of field                          \n",
       "TTYPE194= 'UPPER_COMBINED_SI1' /Flag on SI1 measurement type                    \n",
       "TFORM194= 'I       '           /data format of field: 2-byte INTEGER            \n",
       "TNULL194=                   -1 /NULL value column 194                           \n",
       "TTYPE195= 'E_SI1   '           /Error on SI1                                    \n",
       "TFORM195= 'E       '           /data format of field: 4-byte REAL               \n",
       "TUNIT195= 'dex     '           /physical unit of field                          \n",
       "TTYPE196= 'NN_SI1  '           /Number of Node results used for SI1             \n",
       "TFORM196= 'I       '           /data format of field: 2-byte INTEGER            \n",
       "TNULL196=                   -1 /NULL value column 196                           \n",
       "TTYPE197= 'ENN_SI1 '           /Error on SI1 from Node errors                   \n",
       "TFORM197= 'E       '           /data format of field: 4-byte REAL               \n",
       "TUNIT197= 'dex     '           /physical unit of field                          \n",
       "TTYPE198= 'NL_SI1  '           /Number of Spectral Lines used for SI1           \n",
       "TFORM198= 'I       '           /data format of field: 2-byte INTEGER            \n",
       "TNULL198=                   -1 /NULL value column 198                           \n",
       "TTYPE199= 'PROVENANCE_SI1'     /WG from which SI1 is sourced                    \n",
       "TFORM199= '4A      '           /data format of field: ASCII Character           \n",
       "TTYPE200= 'SI2     '           /Ionised Silicon Abundance                       \n",
       "TFORM200= 'E       '           /data format of field: 4-byte REAL               \n",
       "TUNIT200= 'dex     '           /physical unit of field                          \n",
       "TTYPE201= 'UPPER_SI2'          /Flag on SI2 measurement type                    \n",
       "TFORM201= 'I       '           /data format of field: 2-byte INTEGER            \n",
       "TNULL201=                   -1 /NULL value column 201                           \n",
       "TTYPE202= 'E_SI2   '           /Error on SI2                                    \n",
       "TFORM202= 'E       '           /data format of field: 4-byte REAL               \n",
       "TUNIT202= 'dex     '           /physical unit of field                          \n",
       "TTYPE203= 'NN_SI2  '           /Number of Node results used for SI2             \n",
       "TFORM203= 'I       '           /data format of field: 2-byte INTEGER            \n",
       "TNULL203=                   -1 /NULL value column 203                           \n",
       "TTYPE204= 'ENN_SI2 '           /Error on SI2 from Node errors                   \n",
       "TFORM204= 'E       '           /data format of field: 4-byte REAL               \n",
       "TUNIT204= 'dex     '           /physical unit of field                          \n",
       "TTYPE205= 'NL_SI2  '           /Number of Spectral Lines used for SI2           \n",
       "TFORM205= 'I       '           /data format of field: 2-byte INTEGER            \n",
       "TNULL205=                   -1 /NULL value column 205                           \n",
       "TTYPE206= 'PROVENANCE_SI2'     /WG from which SI2 is sourced                    \n",
       "TFORM206= '4A      '           /data format of field: ASCII Character           \n",
       "TTYPE207= 'SI3     '           /Doubly Ionised Silicon Abundance                \n",
       "TFORM207= 'E       '           /data format of field: 4-byte REAL               \n",
       "TUNIT207= 'dex     '           /physical unit of field                          \n",
       "TTYPE208= 'UPPER_SI3'          /Flag on SI3 measurement type                    \n",
       "TFORM208= 'I       '           /data format of field: 2-byte INTEGER            \n",
       "TNULL208=                   -1 /NULL value column 208                           \n",
       "TTYPE209= 'E_SI3   '           /Error on SI3                                    \n",
       "TFORM209= 'E       '           /data format of field: 4-byte REAL               \n",
       "TUNIT209= 'dex     '           /physical unit of field                          \n",
       "TTYPE210= 'NN_SI3  '           /Number of Node results used for SI3             \n",
       "TFORM210= 'I       '           /data format of field: 2-byte INTEGER            \n",
       "TNULL210=                   -1 /NULL value column 210                           \n",
       "TTYPE211= 'ENN_SI3 '           /Error on SI3 from Node errors                   \n",
       "TFORM211= 'E       '           /data format of field: 4-byte REAL               \n",
       "TUNIT211= 'dex     '           /physical unit of field                          \n",
       "TTYPE212= 'NL_SI3  '           /Number of Spectral Lines used for SI3           \n",
       "TFORM212= 'I       '           /data format of field: 2-byte INTEGER            \n",
       "TNULL212=                   -1 /NULL value column 212                           \n",
       "TTYPE213= 'PROVENANCE_SI3'     /WG from which SI3 is sourced                    \n",
       "TFORM213= '4A      '           /data format of field: ASCII Character           \n",
       "TTYPE214= 'SI4     '           /Triply Ionised Silicon Abundance                \n",
       "TFORM214= 'E       '           /data format of field: 4-byte REAL               \n",
       "TUNIT214= 'dex     '           /physical unit of field                          \n",
       "TTYPE215= 'UPPER_SI4'          /Flag on SI4 measurement type                    \n",
       "TFORM215= 'I       '           /data format of field: 2-byte INTEGER            \n",
       "TNULL215=                   -1 /NULL value column 215                           \n",
       "TTYPE216= 'E_SI4   '           /Error on SI4                                    \n",
       "TFORM216= 'E       '           /data format of field: 4-byte REAL               \n",
       "TUNIT216= 'dex     '           /physical unit of field                          \n",
       "TTYPE217= 'NN_SI4  '           /Number of Node results used for SI4             \n",
       "TFORM217= 'I       '           /data format of field: 2-byte INTEGER            \n",
       "TNULL217=                   -1 /NULL value column 217                           \n",
       "TTYPE218= 'ENN_SI4 '           /Error on SI4 from Node errors                   \n",
       "TFORM218= 'E       '           /data format of field: 4-byte REAL               \n",
       "TUNIT218= 'dex     '           /physical unit of field                          \n",
       "TTYPE219= 'NL_SI4  '           /Number of Spectral Lines used for SI4           \n",
       "TFORM219= 'I       '           /data format of field: 2-byte INTEGER            \n",
       "TNULL219=                   -1 /NULL value column 219                           \n",
       "TTYPE220= 'PROVENANCE_SI4'     /WG from which SI4 is sourced                    \n",
       "TFORM220= '4A      '           /data format of field: ASCII Character           \n",
       "TTYPE221= 'S1      '           /Neutral Sulfur Abundance                        \n",
       "TFORM221= 'E       '           /data format of field: 4-byte REAL               \n",
       "TUNIT221= 'dex     '           /physical unit of field                          \n",
       "TTYPE222= 'UPPER_COMBINED_S1'  /Flag on S1 measurement type                     \n",
       "TFORM222= 'I       '           /data format of field: 2-byte INTEGER            \n",
       "TNULL222=                   -1 /NULL value column 222                           \n",
       "TTYPE223= 'E_S1    '           /Error on S1                                     \n",
       "TFORM223= 'E       '           /data format of field: 4-byte REAL               \n",
       "TUNIT223= 'dex     '           /physical unit of field                          \n",
       "TTYPE224= 'NN_S1   '           /Number of Node results used for S1              \n",
       "TFORM224= 'I       '           /data format of field: 2-byte INTEGER            \n",
       "TNULL224=                   -1 /NULL value column 224                           \n",
       "TTYPE225= 'ENN_S1  '           /Error on S1 from Node errors                    \n",
       "TFORM225= 'E       '           /data format of field: 4-byte REAL               \n",
       "TUNIT225= 'dex     '           /physical unit of field                          \n",
       "TTYPE226= 'NL_S1   '           /Number of Spectral Lines used for S1            \n",
       "TFORM226= 'I       '           /data format of field: 2-byte INTEGER            \n",
       "TNULL226=                   -1 /NULL value column 226                           \n",
       "TTYPE227= 'PROVENANCE_S1'      /WG from which S1 is sourced                     \n",
       "TFORM227= '4A      '           /data format of field: ASCII Character           \n",
       "TTYPE228= 'S2      '           /Ionised Sulfur Abundance                        \n",
       "TFORM228= 'E       '           /data format of field: 4-byte REAL               \n",
       "TUNIT228= 'dex     '           /physical unit of field                          \n",
       "TTYPE229= 'UPPER_S2'           /Flag on S2 measurement type                     \n",
       "TFORM229= 'I       '           /data format of field: 2-byte INTEGER            \n",
       "TNULL229=                   -1 /NULL value column 229                           \n",
       "TTYPE230= 'E_S2    '           /Error on S1                                     \n",
       "TFORM230= 'E       '           /data format of field: 4-byte REAL               \n",
       "TUNIT230= 'dex     '           /physical unit of field                          \n",
       "TTYPE231= 'NN_S2   '           /Number of Node results used for S2              \n",
       "TFORM231= 'I       '           /data format of field: 2-byte INTEGER            \n",
       "TNULL231=                   -1 /NULL value column 231                           \n",
       "TTYPE232= 'ENN_S2  '           /Error on S2 from Node errors                    \n",
       "TFORM232= 'E       '           /data format of field: 4-byte REAL               \n",
       "TUNIT232= 'dex     '           /physical unit of field                          \n",
       "TTYPE233= 'NL_S2   '           /Number of Spectral Lines used for S2            \n",
       "TFORM233= 'I       '           /data format of field: 2-byte INTEGER            \n",
       "TNULL233=                   -1 /NULL value column 233                           \n",
       "TTYPE234= 'S3      '           /Doubly Ionised Sulfur Abundance                 \n",
       "TFORM234= 'E       '           /data format of field: 4-byte REAL               \n",
       "TUNIT234= 'dex     '           /physical unit of field                          \n",
       "TTYPE235= 'UPPER_S3'           /Flag on S3 measurement type                     \n",
       "TFORM235= 'I       '           /data format of field: 2-byte INTEGER            \n",
       "TNULL235=                   -1 /NULL value column 235                           \n",
       "TTYPE236= 'E_S3    '           /Error on S3                                     \n",
       "TFORM236= 'E       '           /data format of field: 4-byte REAL               \n",
       "TUNIT236= 'dex     '           /physical unit of field                          \n",
       "TTYPE237= 'NN_S3   '           /Number of Node results used for S3              \n",
       "TFORM237= 'I       '           /data format of field: 2-byte INTEGER            \n",
       "TNULL237=                   -1 /NULL value column 237                           \n",
       "TTYPE238= 'ENN_S3  '           /Error on S3 from Node errors                    \n",
       "TFORM238= 'E       '           /data format of field: 4-byte REAL               \n",
       "TUNIT238= 'dex     '           /physical unit of field                          \n",
       "TTYPE239= 'NL_S3   '           /Number of Spectral Lines used for S3            \n",
       "TFORM239= 'I       '           /data format of field: 2-byte INTEGER            \n",
       "TNULL239=                   -1 /NULL value column 239                           \n",
       "TTYPE240= 'CA1     '           /Neutral Calcium Abundance                       \n",
       "TFORM240= 'E       '           /data format of field: 4-byte REAL               \n",
       "TUNIT240= 'dex     '           /physical unit of field                          \n",
       "TTYPE241= 'UPPER_COMBINED_CA1' /Flag on CA1 measurement type                    \n",
       "TFORM241= 'I       '           /data format of field: 2-byte INTEGER            \n",
       "TNULL241=                   -1 /NULL value column 241                           \n",
       "TTYPE242= 'E_CA1   '           /Error on CA1                                    \n",
       "TFORM242= 'E       '           /data format of field: 4-byte REAL               \n",
       "TUNIT242= 'dex     '           /physical unit of field                          \n",
       "TTYPE243= 'NN_CA1  '           /Number of Node results used for CA1             \n",
       "TFORM243= 'I       '           /data format of field: 2-byte INTEGER            \n",
       "TNULL243=                   -1 /NULL value column 243                           \n",
       "TTYPE244= 'ENN_CA1 '           /Error on CA1 from Node errors                   \n",
       "TFORM244= 'E       '           /data format of field: 4-byte REAL               \n",
       "TUNIT244= 'dex     '           /physical unit of field                          \n",
       "TTYPE245= 'NL_CA1  '           /Number of Spectral Lines used for CA1           \n",
       "TFORM245= 'I       '           /data format of field: 2-byte INTEGER            \n",
       "TNULL245=                   -1 /NULL value column 245                           \n",
       "TTYPE246= 'PROVENANCE_CA1'     /WG from which CA1 is sourced                    \n",
       "TFORM246= '4A      '           /data format of field: ASCII Character           \n",
       "TTYPE247= 'CA2     '           /Ionised Calcium Abundance                       \n",
       "TFORM247= 'E       '           /data format of field: 4-byte REAL               \n",
       "TUNIT247= 'dex     '           /physical unit of field                          \n",
       "TTYPE248= 'UPPER_CA2'          /Flag on CA2 measurement type                    \n",
       "TFORM248= 'I       '           /data format of field: 2-byte INTEGER            \n",
       "TNULL248=                   -1 /NULL value column 248                           \n",
       "TTYPE249= 'E_CA2   '           /Error on CA2                                    \n",
       "TFORM249= 'E       '           /data format of field: 4-byte REAL               \n",
       "TUNIT249= 'dex     '           /physical unit of field                          \n",
       "TTYPE250= 'NN_CA2  '           /Number of Node results used for CA2             \n",
       "TFORM250= 'I       '           /data format of field: 2-byte INTEGER            \n",
       "TNULL250=                   -1 /NULL value column 250                           \n",
       "TTYPE251= 'ENN_CA2 '           /Error on CA2 from Node errors                   \n",
       "TFORM251= 'E       '           /data format of field: 4-byte REAL               \n",
       "TUNIT251= 'dex     '           /physical unit of field                          \n",
       "TTYPE252= 'NL_CA2  '           /Number of Spectral Lines used for CA2           \n",
       "TFORM252= 'I       '           /data format of field: 2-byte INTEGER            \n",
       "TNULL252=                   -1 /NULL value column 252                           \n",
       "TTYPE253= 'PROVENANCE_CA2'     /WG from which CA2 is sourced                    \n",
       "TFORM253= '4A      '           /data format of field: ASCII Character           \n",
       "TTYPE254= 'SC1     '           /Neutral Scandium Abundance                      \n",
       "TFORM254= 'E       '           /data format of field: 4-byte REAL               \n",
       "TUNIT254= 'dex     '           /physical unit of field                          \n",
       "TTYPE255= 'UPPER_COMBINED_SC1' /Flag on SC1 measurement type                    \n",
       "TFORM255= 'I       '           /data format of field: 2-byte INTEGER            \n",
       "TNULL255=                   -1 /NULL value column 255                           \n",
       "TTYPE256= 'E_SC1   '           /Error on SC1                                    \n",
       "TFORM256= 'E       '           /data format of field: 4-byte REAL               \n",
       "TUNIT256= 'dex     '           /physical unit of field                          \n",
       "TTYPE257= 'NN_SC1  '           /Number of Node results used for SC1             \n",
       "TFORM257= 'I       '           /data format of field: 2-byte INTEGER            \n",
       "TNULL257=                   -1 /NULL value column 257                           \n",
       "TTYPE258= 'ENN_SC1 '           /Error on SC1 from Node errors                   \n",
       "TFORM258= 'E       '           /data format of field: 4-byte REAL               \n",
       "TUNIT258= 'dex     '           /physical unit of field                          \n",
       "TTYPE259= 'NL_SC1  '           /Number of Spectral Lines used for SC1           \n",
       "TFORM259= 'I       '           /data format of field: 2-byte INTEGER            \n",
       "TNULL259=                   -1 /NULL value column 259                           \n",
       "TTYPE260= 'PROVENANCE_SC1'     /WG from which SC1 is sourced                    \n",
       "TFORM260= '4A      '           /data format of field: ASCII Character           \n",
       "TTYPE261= 'SC2     '           /Ionised Scandium Abundance                      \n",
       "TFORM261= 'E       '           /data format of field: 4-byte REAL               \n",
       "TUNIT261= 'dex     '           /physical unit of field                          \n",
       "TTYPE262= 'UPPER_SC2'          /Flag on SC2 measurement type                    \n",
       "TFORM262= 'I       '           /data format of field: 2-byte INTEGER            \n",
       "TNULL262=                   -1 /NULL value column 262                           \n",
       "TTYPE263= 'E_SC2   '           /Error on SC2                                    \n",
       "TFORM263= 'E       '           /data format of field: 4-byte REAL               \n",
       "TUNIT263= 'dex     '           /physical unit of field                          \n",
       "TTYPE264= 'NN_SC2  '           /Number of Node results used for SC2             \n",
       "TFORM264= 'I       '           /data format of field: 2-byte INTEGER            \n",
       "TNULL264=                   -1 /NULL value column 264                           \n",
       "TTYPE265= 'ENN_SC2 '           /Error on SC2 from Node errors                   \n",
       "TFORM265= 'E       '           /data format of field: 4-byte REAL               \n",
       "TUNIT265= 'dex     '           /physical unit of field                          \n",
       "TTYPE266= 'NL_SC2  '           /Number of Spectral Lines used for SC2           \n",
       "TFORM266= 'I       '           /data format of field: 2-byte INTEGER            \n",
       "TNULL266=                   -1 /NULL value column 266                           \n",
       "TTYPE267= 'PROVENANCE_SC2'     /WG from which SC2 is sourced                    \n",
       "TFORM267= '4A      '           /data format of field: ASCII Character           \n",
       "TTYPE268= 'TI1     '           /Neutral Titanium Abundance                      \n",
       "TFORM268= 'E       '           /data format of field: 4-byte REAL               \n",
       "TUNIT268= 'dex     '           /physical unit of field                          \n",
       "TTYPE269= 'UPPER_COMBINED_TI1' /Flag on TI1 measurement type                    \n",
       "TFORM269= 'I       '           /data format of field: 2-byte INTEGER            \n",
       "TNULL269=                   -1 /NULL value column 269                           \n",
       "TTYPE270= 'E_TI1   '           /Error on TI1                                    \n",
       "TFORM270= 'E       '           /data format of field: 4-byte REAL               \n",
       "TUNIT270= 'dex     '           /physical unit of field                          \n",
       "TTYPE271= 'NN_TI1  '           /Number of Node results used for TI1             \n",
       "TFORM271= 'I       '           /data format of field: 2-byte INTEGER            \n",
       "TNULL271=                   -1 /NULL value column 271                           \n",
       "TTYPE272= 'ENN_TI1 '           /Error on TI1 from Node errors                   \n",
       "TFORM272= 'E       '           /data format of field: 4-byte REAL               \n",
       "TUNIT272= 'dex     '           /physical unit of field                          \n",
       "TTYPE273= 'NL_TI1  '           /Number of Spectral Lines used for TI1           \n",
       "TFORM273= 'I       '           /data format of field: 2-byte INTEGER            \n",
       "TNULL273=                   -1 /NULL value column 273                           \n",
       "TTYPE274= 'PROVENANCE_TI1'     /WG from which TI1 is sourced                    \n",
       "TFORM274= '4A      '           /data format of field: ASCII Character           \n",
       "TTYPE275= 'TI2     '           /Ionised Titanium Abundance                      \n",
       "TFORM275= 'E       '           /data format of field: 4-byte REAL               \n",
       "TUNIT275= 'dex     '           /physical unit of field                          \n",
       "TTYPE276= 'UPPER_TI2'          /Flag on TI2 measurement type                    \n",
       "TFORM276= 'I       '           /data format of field: 2-byte INTEGER            \n",
       "TNULL276=                   -1 /NULL value column 276                           \n",
       "TTYPE277= 'E_TI2   '           /Error on TI2                                    \n",
       "TFORM277= 'E       '           /data format of field: 4-byte REAL               \n",
       "TUNIT277= 'dex     '           /physical unit of field                          \n",
       "TTYPE278= 'NN_TI2  '           /Number of Node results used for TI2             \n",
       "TFORM278= 'I       '           /data format of field: 2-byte INTEGER            \n",
       "TNULL278=                   -1 /NULL value column 278                           \n",
       "TTYPE279= 'ENN_TI2 '           /Error on TI2 from Node errors                   \n",
       "TFORM279= 'E       '           /data format of field: 4-byte REAL               \n",
       "TUNIT279= 'dex     '           /physical unit of field                          \n",
       "TTYPE280= 'NL_TI2  '           /Number of Spectral Lines used for TI2           \n",
       "TFORM280= 'I       '           /data format of field: 2-byte INTEGER            \n",
       "TNULL280=                   -1 /NULL value column 280                           \n",
       "TTYPE281= 'PROVENANCE_TI2'     /WG from which TI2 is sourced                    \n",
       "TFORM281= '4A      '           /data format of field: ASCII Character           \n",
       "TTYPE282= 'V1      '           /Neutral Vanadium Abundance                      \n",
       "TFORM282= 'E       '           /data format of field: 4-byte REAL               \n",
       "TUNIT282= 'dex     '           /physical unit of field                          \n",
       "TTYPE283= 'UPPER_COMBINED_V1'  /Flag on V1 measurement type                     \n",
       "TFORM283= 'I       '           /data format of field: 2-byte INTEGER            \n",
       "TNULL283=                   -1 /NULL value column 283                           \n",
       "TTYPE284= 'E_V1    '           /Error on V1                                     \n",
       "TFORM284= 'E       '           /data format of field: 4-byte REAL               \n",
       "TUNIT284= 'dex     '           /physical unit of field                          \n",
       "TTYPE285= 'NN_V1   '           /Number of Node results used for V1              \n",
       "TFORM285= 'I       '           /data format of field: 2-byte INTEGER            \n",
       "TNULL285=                   -1 /NULL value column 285                           \n",
       "TTYPE286= 'ENN_V1  '           /Error on V1 from Node errors                    \n",
       "TFORM286= 'E       '           /data format of field: 4-byte REAL               \n",
       "TUNIT286= 'dex     '           /physical unit of field                          \n",
       "TTYPE287= 'NL_V1   '           /Number of Spectral Lines used for V1            \n",
       "TFORM287= 'I       '           /data format of field: 2-byte INTEGER            \n",
       "TNULL287=                   -1 /NULL value column 287                           \n",
       "TTYPE288= 'PROVENANCE_V1'      /WG from which V1 is sourced                     \n",
       "TFORM288= '4A      '           /data format of field: ASCII Character           \n",
       "TTYPE289= 'V2      '           /Ionised Vanadium Abundance                      \n",
       "TFORM289= 'E       '           /data format of field: 4-byte REAL               \n",
       "TUNIT289= 'dex     '           /physical unit of field                          \n",
       "TTYPE290= 'UPPER_V2'           /Flag on V2 measurement type                     \n",
       "TFORM290= 'I       '           /data format of field: 2-byte INTEGER            \n",
       "TNULL290=                   -1 /NULL value column 290                           \n",
       "TTYPE291= 'E_V2    '           /Error on V2                                     \n",
       "TFORM291= 'E       '           /data format of field: 4-byte REAL               \n",
       "TUNIT291= 'dex     '           /physical unit of field                          \n",
       "TTYPE292= 'NN_V2   '           /Number of Node results used for V2              \n",
       "TFORM292= 'I       '           /data format of field: 2-byte INTEGER            \n",
       "TNULL292=                   -1 /NULL value column 292                           \n",
       "TTYPE293= 'ENN_V2  '           /Error on V2 from Node errors                    \n",
       "TFORM293= 'E       '           /data format of field: 4-byte REAL               \n",
       "TUNIT293= 'dex     '           /physical unit of field                          \n",
       "TTYPE294= 'NL_V2   '           /Number of Spectral lines used for V2            \n",
       "TFORM294= 'I       '           /data format of field: 2-byte INTEGER            \n",
       "TNULL294=                   -1 /NULL value column 294                           \n",
       "TTYPE295= 'CR1     '           /Neutral Chromium Abundance                      \n",
       "TFORM295= 'E       '           /data format of field: 4-byte REAL               \n",
       "TUNIT295= 'dex     '           /physical unit of field                          \n",
       "TTYPE296= 'UPPER_COMBINED_CR1' /Flag on CR1 measurement type                    \n",
       "TFORM296= 'I       '           /data format of field: 2-byte INTEGER            \n",
       "TNULL296=                   -1 /NULL value column 296                           \n",
       "TTYPE297= 'E_CR1   '           /Error on CR1                                    \n",
       "TFORM297= 'E       '           /data format of field: 4-byte REAL               \n",
       "TUNIT297= 'dex     '           /physical unit of field                          \n",
       "TTYPE298= 'NN_CR1  '           /Number of Node results used for CR1             \n",
       "TFORM298= 'I       '           /data format of field: 2-byte INTEGER            \n",
       "TNULL298=                   -1 /NULL value column 298                           \n",
       "TTYPE299= 'ENN_CR1 '           /Error on CR1 from Node errors                   \n",
       "TFORM299= 'E       '           /data format of field: 4-byte REAL               \n",
       "TUNIT299= 'dex     '           /physical unit of field                          \n",
       "TTYPE300= 'NL_CR1  '           /Number of Spectral Lines used for CR1           \n",
       "TFORM300= 'I       '           /data format of field: 2-byte INTEGER            \n",
       "TNULL300=                   -1 /NULL value column 300                           \n",
       "TTYPE301= 'PROVENANCE_CR1'     /WG from which CR1 is sourced                    \n",
       "TFORM301= '4A      '           /data format of field: ASCII Character           \n",
       "TTYPE302= 'CR2     '           /Ionised Chromium Abundance                      \n",
       "TFORM302= 'E       '           /data format of field: 4-byte REAL               \n",
       "TUNIT302= 'dex     '           /physical unit of field                          \n",
       "TTYPE303= 'UPPER_CR2'          /Flag on CR2 measurement type                    \n",
       "TFORM303= 'I       '           /data format of field: 2-byte INTEGER            \n",
       "TNULL303=                   -1 /NULL value column 303                           \n",
       "TTYPE304= 'E_CR2   '           /Error on CR2                                    \n",
       "TFORM304= 'E       '           /data format of field: 4-byte REAL               \n",
       "TUNIT304= 'dex     '           /physical unit of field                          \n",
       "TTYPE305= 'NN_CR2  '           /Number of Node results used for CR2             \n",
       "TFORM305= 'I       '           /data format of field: 2-byte INTEGER            \n",
       "TNULL305=                   -1 /NULL value column 305                           \n",
       "TTYPE306= 'ENN_CR2 '           /Error on CR2 from Node errors                   \n",
       "TFORM306= 'E       '           /data format of field: 4-byte REAL               \n",
       "TUNIT306= 'dex     '           /physical unit of field                          \n",
       "TTYPE307= 'NL_CR2  '           /Number of Spectral Lines used for CR2           \n",
       "TFORM307= 'I       '           /data format of field: 2-byte INTEGER            \n",
       "TNULL307=                   -1 /NULL value column 307                           \n",
       "TTYPE308= 'PROVENANCE_CR2'     /WG from which CR2 is sourced                    \n",
       "TFORM308= '4A      '           /data format of field: ASCII Character           \n",
       "TTYPE309= 'MN1     '           /Neutral Manganese Abundance                     \n",
       "TFORM309= 'E       '           /data format of field: 4-byte REAL               \n",
       "TUNIT309= 'dex     '           /physical unit of field                          \n",
       "TTYPE310= 'UPPER_COMBINED_MN1' /Flag on MN1 measurement type                    \n",
       "TFORM310= 'I       '           /data format of field: 2-byte INTEGER            \n",
       "TNULL310=                   -1 /NULL value column 310                           \n",
       "TTYPE311= 'E_MN1   '           /Error on MN1                                    \n",
       "TFORM311= 'E       '           /data format of field: 4-byte REAL               \n",
       "TUNIT311= 'dex     '           /physical unit of field                          \n",
       "TTYPE312= 'NN_MN1  '           /Number of Node results used for MN1             \n",
       "TFORM312= 'I       '           /data format of field: 2-byte INTEGER            \n",
       "TNULL312=                   -1 /NULL value column 312                           \n",
       "TTYPE313= 'ENN_MN1 '           /Error on MN1 from Node errors                   \n",
       "TFORM313= 'E       '           /data format of field: 4-byte REAL               \n",
       "TUNIT313= 'dex     '           /physical unit of field                          \n",
       "TTYPE314= 'NL_MN1  '           /Number of Spectral Lines used for MN1           \n",
       "TFORM314= 'I       '           /data format of field: 2-byte INTEGER            \n",
       "TNULL314=                   -1 /NULL value column 314                           \n",
       "TTYPE315= 'PROVENANCE_MN1'     /WG from which MN1 is sourced                    \n",
       "TFORM315= '4A      '           /data format of field: ASCII Character           \n",
       "TTYPE316= 'FE1     '           /Neutral Iron Abundance                          \n",
       "TFORM316= 'E       '           /data format of field: 4-byte REAL               \n",
       "TUNIT316= 'dex     '           /physical unit of field                          \n",
       "TTYPE317= 'UPPER_COMBINED_FE1' /Flag on FE1 measurement type                    \n",
       "TFORM317= 'I       '           /data format of field: 2-byte INTEGER            \n",
       "TNULL317=                   -1 /NULL value column 317                           \n",
       "TTYPE318= 'E_FE1   '           /Error on FE1                                    \n",
       "TFORM318= 'E       '           /data format of field: 4-byte REAL               \n",
       "TUNIT318= 'dex     '           /physical unit of field                          \n",
       "TTYPE319= 'NN_FE1  '           /Number of Node results used for FE1             \n",
       "TFORM319= 'I       '           /data format of field: 2-byte INTEGER            \n",
       "TNULL319=                   -1 /NULL value column 319                           \n",
       "TTYPE320= 'ENN_FE1 '           /Error on FE1 from Node errors                   \n",
       "TFORM320= 'E       '           /data format of field: 4-byte REAL               \n",
       "TUNIT320= 'dex     '           /physical unit of field                          \n",
       "TTYPE321= 'NL_FE1  '           /Number of Spectral Lines used for FE1           \n",
       "TFORM321= 'I       '           /data format of field: 2-byte INTEGER            \n",
       "TNULL321=                   -1 /NULL value column 321                           \n",
       "TTYPE322= 'PROVENANCE_FE1'     /WG from which FE1 is sourced                    \n",
       "TFORM322= '4A      '           /data format of field: ASCII Character           \n",
       "TTYPE323= 'FE2     '           /Ionised Iron Abundance                          \n",
       "TFORM323= 'E       '           /data format of field: 4-byte REAL               \n",
       "TUNIT323= 'dex     '           /physical unit of field                          \n",
       "TTYPE324= 'UPPER_FE2'          /Flag on FE2 measurement type                    \n",
       "TFORM324= 'I       '           /data format of field: 2-byte INTEGER            \n",
       "TNULL324=                   -1 /NULL value column 324                           \n",
       "TTYPE325= 'E_FE2   '           /Error on FE2                                    \n",
       "TFORM325= 'E       '           /data format of field: 4-byte REAL               \n",
       "TUNIT325= 'dex     '           /physical unit of field                          \n",
       "TTYPE326= 'NN_FE2  '           /Number of Node results used for FE2             \n",
       "TFORM326= 'I       '           /data format of field: 2-byte INTEGER            \n",
       "TNULL326=                   -1 /NULL value column 326                           \n",
       "TTYPE327= 'ENN_FE2 '           /Error on FE2 from Node errors                   \n",
       "TFORM327= 'E       '           /data format of field: 4-byte REAL               \n",
       "TUNIT327= 'dex     '           /physical unit of field                          \n",
       "TTYPE328= 'NL_FE2  '           /Number of Spectral Lines used for FE2           \n",
       "TFORM328= 'I       '           /data format of field: 2-byte INTEGER            \n",
       "TNULL328=                   -1 /NULL value column 328                           \n",
       "TTYPE329= 'PROVENANCE_FE2'     /WG from which FE2 is sourced                    \n",
       "TFORM329= '4A      '           /data format of field: ASCII Character           \n",
       "TTYPE330= 'FE3     '           /Doubly Ionised Iron Abundance                   \n",
       "TFORM330= 'E       '           /data format of field: 4-byte REAL               \n",
       "TUNIT330= 'dex     '           /physical unit of field                          \n",
       "TTYPE331= 'UPPER_FE3'          /Flag on FE3 measurement type                    \n",
       "TFORM331= 'I       '           /data format of field: 2-byte INTEGER            \n",
       "TNULL331=                   -1 /NULL value column 331                           \n",
       "TTYPE332= 'E_FE3   '           /Error on FE3                                    \n",
       "TFORM332= 'E       '           /data format of field: 4-byte REAL               \n",
       "TUNIT332= 'dex     '           /physical unit of field                          \n",
       "TTYPE333= 'NN_FE3  '           /Number of Node results used for FE3             \n",
       "TFORM333= 'I       '           /data format of field: 2-byte INTEGER            \n",
       "TNULL333=                   -1 /NULL value column 333                           \n",
       "TTYPE334= 'ENN_FE3 '           /Error on FE3 from Node errors                   \n",
       "TFORM334= 'E       '           /data format of field: 4-byte REAL               \n",
       "TUNIT334= 'dex     '           /physical unit of field                          \n",
       "TTYPE335= 'NL_FE3  '           /Number of Spectral Lines used for FE3           \n",
       "TFORM335= 'I       '           /data format of field: 2-byte INTEGER            \n",
       "TNULL335=                   -1 /NULL value column 335                           \n",
       "TTYPE336= 'CO1     '           /Neutral Cobalt Abundance                        \n",
       "TFORM336= 'E       '           /data format of field: 4-byte REAL               \n",
       "TUNIT336= 'dex     '           /physical unit of field                          \n",
       "TTYPE337= 'UPPER_COMBINED_CO1' /Flag on CO1 measurement type                    \n",
       "TFORM337= 'I       '           /data format of field: 2-byte INTEGER            \n",
       "TNULL337=                   -1 /NULL value column 337                           \n",
       "TTYPE338= 'E_CO1   '           /Error on CO1                                    \n",
       "TFORM338= 'E       '           /data format of field: 4-byte REAL               \n",
       "TUNIT338= 'dex     '           /physical unit of field                          \n",
       "TTYPE339= 'NN_CO1  '           /Number of Node results used for CO1             \n",
       "TFORM339= 'I       '           /data format of field: 2-byte INTEGER            \n",
       "TNULL339=                   -1 /NULL value column 339                           \n",
       "TTYPE340= 'ENN_CO1 '           /Error on CO1 from Node errors                   \n",
       "TFORM340= 'E       '           /data format of field: 4-byte REAL               \n",
       "TUNIT340= 'dex     '           /physical unit of field                          \n",
       "TTYPE341= 'NL_CO1  '           /Number of Spectral Lines used for CO1           \n",
       "TFORM341= 'I       '           /data format of field: 2-byte INTEGER            \n",
       "TNULL341=                   -1 /NULL value column 341                           \n",
       "TTYPE342= 'PROVENANCE_CO1'     /WG from which CO1 is sourced                    \n",
       "TFORM342= '4A      '           /data format of field: ASCII Character           \n",
       "TTYPE343= 'NI1     '           /Neutral Nickel Abundance                        \n",
       "TFORM343= 'E       '           /data format of field: 4-byte REAL               \n",
       "TUNIT343= 'dex     '           /physical unit of field                          \n",
       "TTYPE344= 'UPPER_COMBINED_NI1' /Flag on NI1 measurement type                    \n",
       "TFORM344= 'I       '           /data format of field: 2-byte INTEGER            \n",
       "TNULL344=                   -1 /NULL value column 344                           \n",
       "TTYPE345= 'E_NI1   '           /Error on NI1                                    \n",
       "TFORM345= 'E       '           /data format of field: 4-byte REAL               \n",
       "TUNIT345= 'dex     '           /physical unit of field                          \n",
       "TTYPE346= 'NN_NI1  '           /Number of Node results used for NI1             \n",
       "TFORM346= 'I       '           /data format of field: 2-byte INTEGER            \n",
       "TNULL346=                   -1 /NULL value column 346                           \n",
       "TTYPE347= 'ENN_NI1 '           /Error on NI1 from Node errors                   \n",
       "TFORM347= 'E       '           /data format of field: 4-byte REAL               \n",
       "TUNIT347= 'dex     '           /physical unit of field                          \n",
       "TTYPE348= 'NL_NI1  '           /Number of Spectral Lines used for NI1           \n",
       "TFORM348= 'I       '           /data format of field: 2-byte INTEGER            \n",
       "TNULL348=                   -1 /NULL value column 348                           \n",
       "TTYPE349= 'PROVENANCE_NI1'     /WG from which NI1 is sourced                    \n",
       "TFORM349= '4A      '           /data format of field: ASCII Character           \n",
       "TTYPE350= 'CU1     '           /Neutral Copper Abundance                        \n",
       "TFORM350= 'E       '           /data format of field: 4-byte REAL               \n",
       "TUNIT350= 'dex     '           /physical unit of field                          \n",
       "TTYPE351= 'UPPER_COMBINED_CU1' /Flag on CU1 measurement type                    \n",
       "TFORM351= 'I       '           /data format of field: 2-byte INTEGER            \n",
       "TNULL351=                   -1 /NULL value column 351                           \n",
       "TTYPE352= 'E_CU1   '           /Error on CU1                                    \n",
       "TFORM352= 'E       '           /data format of field: 4-byte REAL               \n",
       "TUNIT352= 'dex     '           /physical unit of field                          \n",
       "TTYPE353= 'NN_CU1  '           /Number of Node results used for CU1             \n",
       "TFORM353= 'I       '           /data format of field: 2-byte INTEGER            \n",
       "TNULL353=                   -1 /NULL value column 353                           \n",
       "TTYPE354= 'ENN_CU1 '           /Error on CU1 from Node errors                   \n",
       "TFORM354= 'E       '           /data format of field: 4-byte REAL               \n",
       "TUNIT354= 'dex     '           /physical unit of field                          \n",
       "TTYPE355= 'NL_CU1  '           /Number of Spectral Lines used for CU1           \n",
       "TFORM355= 'I       '           /data format of field: 2-byte INTEGER            \n",
       "TNULL355=                   -1 /NULL value column 355                           \n",
       "TTYPE356= 'PROVENANCE_CU1'     /WG from which CU1 is sourced                    \n",
       "TFORM356= '4A      '           /data format of field: ASCII Character           \n",
       "TTYPE357= 'ZN1     '           /Neutral Zinc Abundance                          \n",
       "TFORM357= 'E       '           /data format of field: 4-byte REAL               \n",
       "TUNIT357= 'dex     '           /physical unit of field                          \n",
       "TTYPE358= 'UPPER_COMBINED_ZN1' /Flag on ZN1 measurement type                    \n",
       "TFORM358= 'I       '           /data format of field: 2-byte INTEGER            \n",
       "TNULL358=                   -1 /NULL value column 358                           \n",
       "TTYPE359= 'E_ZN1   '           /Error on ZN1                                    \n",
       "TFORM359= 'E       '           /data format of field: 4-byte REAL               \n",
       "TUNIT359= 'dex     '           /physical unit of field                          \n",
       "TTYPE360= 'NN_ZN1  '           /Number of Node results used for ZN1             \n",
       "TFORM360= 'I       '           /data format of field: 2-byte INTEGER            \n",
       "TNULL360=                   -1 /NULL value column 360                           \n",
       "TTYPE361= 'ENN_ZN1 '           /Error on ZN1 from Node errors                   \n",
       "TFORM361= 'E       '           /data format of field: 4-byte REAL               \n",
       "TUNIT361= 'dex     '           /physical unit of field                          \n",
       "TTYPE362= 'NL_ZN1  '           /Number of Spectral Lines used for ZN1           \n",
       "TFORM362= 'I       '           /data format of field: 2-byte INTEGER            \n",
       "TNULL362=                   -1 /NULL value column 362                           \n",
       "TTYPE363= 'PROVENANCE_ZN1'     /WG from which ZN1 is sourced                    \n",
       "TFORM363= '4A      '           /data format of field: ASCII Character           \n",
       "TTYPE364= 'SR1     '           /Neutral Strontium Abundance                     \n",
       "TFORM364= 'E       '           /data format of field: 4-byte REAL               \n",
       "TUNIT364= 'dex     '           /physical unit of field                          \n",
       "TTYPE365= 'UPPER_COMBINED_SR1' /Flag on SR1 measurement type                    \n",
       "TFORM365= 'I       '           /data format of field: 2-byte INTEGER            \n",
       "TNULL365=                   -1 /NULL value column 365                           \n",
       "TTYPE366= 'E_SR1   '           /Error on SR1                                    \n",
       "TFORM366= 'E       '           /data format of field: 4-byte REAL               \n",
       "TUNIT366= 'dex     '           /physical unit of field                          \n",
       "TTYPE367= 'NN_SR1  '           /Number of Node results used for SR1             \n",
       "TFORM367= 'I       '           /data format of field: 2-byte INTEGER            \n",
       "TNULL367=                   -1 /NULL value column 367                           \n",
       "TTYPE368= 'ENN_SR1 '           /Error on SR1 from Node errors                   \n",
       "TFORM368= 'E       '           /data format of field: 4-byte REAL               \n",
       "TUNIT368= 'dex     '           /physical unit of field                          \n",
       "TTYPE369= 'NL_SR1  '           /Number of Spectral lines used for SR1           \n",
       "TFORM369= 'I       '           /data format of field: 2-byte INTEGER            \n",
       "TNULL369=                   -1 /NULL value column 369                           \n",
       "TTYPE370= 'PROVENANCE_SR1'     /WG from which SR1 is sourced                    \n",
       "TFORM370= 'A       '           /data format of field: ASCII Character           \n",
       "TTYPE371= 'Y1      '           /Neutral Yttrium Abundance                       \n",
       "TFORM371= 'E       '           /data format of field: 4-byte REAL               \n",
       "TUNIT371= 'dex     '           /physical unit of field                          \n",
       "TTYPE372= 'UPPER_COMBINED_Y1'  /Flag on Y1 measurement type                     \n",
       "TFORM372= 'I       '           /data format of field: 2-byte INTEGER            \n",
       "TNULL372=                   -1 /NULL value column 372                           \n",
       "TTYPE373= 'E_Y1    '           /Error on Y1                                     \n",
       "TFORM373= 'E       '           /data format of field: 4-byte REAL               \n",
       "TUNIT373= 'dex     '           /physical unit of field                          \n",
       "TTYPE374= 'NN_Y1   '           /Number of Node results used for Y1              \n",
       "TFORM374= 'I       '           /data format of field: 2-byte INTEGER            \n",
       "TNULL374=                   -1 /NULL value column 374                           \n",
       "TTYPE375= 'ENN_Y1  '           /Error on Y1 from Node errors                    \n",
       "TFORM375= 'E       '           /data format of field: 4-byte REAL               \n",
       "TUNIT375= 'dex     '           /physical unit of field                          \n",
       "TTYPE376= 'NL_Y1   '           /Number of Spectral lines used for Y1            \n",
       "TFORM376= 'I       '           /data format of field: 2-byte INTEGER            \n",
       "TNULL376=                   -1 /NULL value column 376                           \n",
       "TTYPE377= 'Y2      '           /Ionised Yttrium Abundance                       \n",
       "TFORM377= 'E       '           /data format of field: 4-byte REAL               \n",
       "TUNIT377= 'dex     '           /physical unit of field                          \n",
       "TTYPE378= 'UPPER_Y2'           /Flag on Y2 measurement type                     \n",
       "TFORM378= 'I       '           /data format of field: 2-byte INTEGER            \n",
       "TNULL378=                   -1 /NULL value column 378                           \n",
       "TTYPE379= 'E_Y2    '           /Error on Y2                                     \n",
       "TFORM379= 'E       '           /data format of field: 4-byte REAL               \n",
       "TUNIT379= 'dex     '           /physical unit of field                          \n",
       "TTYPE380= 'NN_Y2   '           /Number of Node results used for Y2              \n",
       "TFORM380= 'I       '           /data format of field: 2-byte INTEGER            \n",
       "TNULL380=                   -1 /NULL value column 380                           \n",
       "TTYPE381= 'ENN_Y2  '           /Error on Y2 from Node errors                    \n",
       "TFORM381= 'E       '           /data format of field: 4-byte REAL               \n",
       "TUNIT381= 'dex     '           /physical unit of field                          \n",
       "TTYPE382= 'NL_Y2   '           /Number of Spectral Lines used for Y2            \n",
       "TFORM382= 'I       '           /data format of field: 2-byte INTEGER            \n",
       "TNULL382=                   -1 /NULL value column 382                           \n",
       "TTYPE383= 'PROVENANCE_Y2'      /WG from which Y2 is sourced                     \n",
       "TFORM383= '4A      '           /data format of field: ASCII Character           \n",
       "TTYPE384= 'ZR1     '           /Neutral Zirconium Abundance                     \n",
       "TFORM384= 'E       '           /data format of field: 4-byte REAL               \n",
       "TUNIT384= 'dex     '           /physical unit of field                          \n",
       "TTYPE385= 'UPPER_COMBINED_ZR1' /Flag on ZR1 measurement type                    \n",
       "TFORM385= 'I       '           /data format of field: 2-byte INTEGER            \n",
       "TNULL385=                   -1 /NULL value column 385                           \n",
       "TTYPE386= 'E_ZR1   '           /Error on ZR1                                    \n",
       "TFORM386= 'E       '           /data format of field: 4-byte REAL               \n",
       "TUNIT386= 'dex     '           /physical unit of field                          \n",
       "TTYPE387= 'NN_ZR1  '           /Number of Node results used for ZR1             \n",
       "TFORM387= 'I       '           /data format of field: 2-byte INTEGER            \n",
       "TNULL387=                   -1 /NULL value column 387                           \n",
       "TTYPE388= 'ENN_ZR1 '           /Error on ZR1 from Node errors                   \n",
       "TFORM388= 'E       '           /data format of field: 4-byte REAL               \n",
       "TUNIT388= 'dex     '           /physical unit of field                          \n",
       "TTYPE389= 'NL_ZR1  '           /Number of Spectral Lines used for ZR1           \n",
       "TFORM389= 'I       '           /data format of field: 2-byte INTEGER            \n",
       "TNULL389=                   -1 /NULL value column 389                           \n",
       "TTYPE390= 'PROVENANCE_ZR1'     /WG from which ZR1 is sourced                    \n",
       "TFORM390= '4A      '           /data format of field: ASCII Character           \n",
       "TTYPE391= 'ZR2     '           /Ionised Zirconium Abundance                     \n",
       "TFORM391= 'E       '           /data format of field: 4-byte REAL               \n",
       "TUNIT391= 'dex     '           /physical unit of field                          \n",
       "TTYPE392= 'UPPER_ZR2'          /Flag on ZR2 measurement type                    \n",
       "TFORM392= 'I       '           /data format of field: 2-byte INTEGER            \n",
       "TNULL392=                   -1 /NULL value column 392                           \n",
       "TTYPE393= 'E_ZR2   '           /Error on ZR2                                    \n",
       "TFORM393= 'E       '           /data format of field: 4-byte REAL               \n",
       "TUNIT393= 'dex     '           /physical unit of field                          \n",
       "TTYPE394= 'NN_ZR2  '           /Number of Node results used for ZR2             \n",
       "TFORM394= 'I       '           /data format of field: 2-byte INTEGER            \n",
       "TNULL394=                   -1 /NULL value column 394                           \n",
       "TTYPE395= 'ENN_ZR2 '           /Error on ZR2 from Node errors                   \n",
       "TFORM395= 'E       '           /data format of field: 4-byte REAL               \n",
       "TUNIT395= 'dex     '           /physical unit of field                          \n",
       "TTYPE396= 'NL_ZR2  '           /Number of Spectral Lines used for ZR2           \n",
       "TFORM396= 'I       '           /data format of field: 2-byte INTEGER            \n",
       "TNULL396=                   -1 /NULL value column 396                           \n",
       "TTYPE397= 'PROVENANCE_ZR2'     /WG from which ZR2 is sourced                    \n",
       "TFORM397= '4A      '           /data format of field: ASCII Character           \n",
       "TTYPE398= 'NB1     '           /Neutral Niobium Abundance                       \n",
       "TFORM398= 'E       '           /data format of field: 4-byte REAL               \n",
       "TUNIT398= 'dex     '           /physical unit of field                          \n",
       "TTYPE399= 'UPPER_COMBINED_NB1' /Flag on NB1 measurement type                    \n",
       "TFORM399= 'I       '           /data format of field: 2-byte INTEGER            \n",
       "TNULL399=                   -1 /NULL value column 399                           \n",
       "TTYPE400= 'E_NB1   '           /Error on NB1                                    \n",
       "TFORM400= 'E       '           /data format of field: 4-byte REAL               \n",
       "TUNIT400= 'dex     '           /physical unit of field                          \n",
       "TTYPE401= 'NN_NB1  '           /Number of Node results used for NB1             \n",
       "TFORM401= 'I       '           /data format of field: 2-byte INTEGER            \n",
       "TNULL401=                   -1 /NULL value column 401                           \n",
       "TTYPE402= 'ENN_NB1 '           /Error on NB1 from Node errors                   \n",
       "TFORM402= 'E       '           /data format of field: 4-byte REAL               \n",
       "TUNIT402= 'dex     '           /physical unit of field                          \n",
       "TTYPE403= 'NL_NB1  '           /Number of Spectral Lines used for NB1           \n",
       "TFORM403= 'I       '           /data format of field: 2-byte INTEGER            \n",
       "TNULL403=                   -1 /NULL value column 403                           \n",
       "TTYPE404= 'MO1     '           /Neutral Molybdenum Abundance                    \n",
       "TFORM404= 'E       '           /data format of field: 4-byte REAL               \n",
       "TUNIT404= 'dex     '           /physical unit of field                          \n",
       "TTYPE405= 'UPPER_COMBINED_MO1' /Flag on MO1 measurement type                    \n",
       "TFORM405= 'I       '           /data format of field: 2-byte INTEGER            \n",
       "TNULL405=                   -1 /NULL value column 405                           \n",
       "TTYPE406= 'E_MO1   '           /Error on MO1                                    \n",
       "TFORM406= 'E       '           /data format of field: 4-byte REAL               \n",
       "TUNIT406= 'dex     '           /physical unit of field                          \n",
       "TTYPE407= 'NN_MO1  '           /Number of Node results used for MO1             \n",
       "TFORM407= 'I       '           /data format of field: 2-byte INTEGER            \n",
       "TNULL407=                   -1 /NULL value column 407                           \n",
       "TTYPE408= 'ENN_MO1 '           /Error on MO1 from Node errors                   \n",
       "TFORM408= 'E       '           /data format of field: 4-byte REAL               \n",
       "TUNIT408= 'dex     '           /physical unit of field                          \n",
       "TTYPE409= 'NL_MO1  '           /Number of Spectral Lines used for MO1           \n",
       "TFORM409= 'I       '           /data format of field: 2-byte INTEGER            \n",
       "TNULL409=                   -1 /NULL value column 409                           \n",
       "TTYPE410= 'PROVENANCE_MO1'     /WG from which MO1 is sourced                    \n",
       "TFORM410= '4A      '           /data format of field: ASCII Character           \n",
       "TTYPE411= 'RU1     '           /Neutral Ruthenium Abundance                     \n",
       "TFORM411= 'E       '           /data format of field: 4-byte REAL               \n",
       "TUNIT411= 'dex     '           /physical unit of field                          \n",
       "TTYPE412= 'UPPER_COMBINED_RU1' /Flag on RU1 measurement type                    \n",
       "TFORM412= 'I       '           /data format of field: 2-byte INTEGER            \n",
       "TNULL412=                   -1 /NULL value column 412                           \n",
       "TTYPE413= 'E_RU1   '           /Error on RU1                                    \n",
       "TFORM413= 'E       '           /data format of field: 4-byte REAL               \n",
       "TUNIT413= 'dex     '           /physical unit of field                          \n",
       "TTYPE414= 'NN_RU1  '           /Number of Node results used for RU1             \n",
       "TFORM414= 'I       '           /data format of field: 2-byte INTEGER            \n",
       "TNULL414=                   -1 /NULL value column 414                           \n",
       "TTYPE415= 'ENN_RU1 '           /Error on RU1 from Node errors                   \n",
       "TFORM415= 'E       '           /data format of field: 4-byte REAL               \n",
       "TUNIT415= 'dex     '           /physical unit of field                          \n",
       "TTYPE416= 'NL_RU1  '           /Number of Spectral Lines used for RU1           \n",
       "TFORM416= 'I       '           /data format of field: 2-byte INTEGER            \n",
       "TNULL416=                   -1 /NULL value column 416                           \n",
       "TTYPE417= 'PROVENANCE_RU1'     /WG from which RU1 is sourced                    \n",
       "TFORM417= 'A       '           /data format of field: ASCII Character           \n",
       "TTYPE418= 'BA2     '           /Ionised Barium Abundance                        \n",
       "TFORM418= 'E       '           /data format of field: 4-byte REAL               \n",
       "TUNIT418= 'dex     '           /physical unit of field                          \n",
       "TTYPE419= 'UPPER_BA2'          /Flag on BA2 measurement type                    \n",
       "TFORM419= 'I       '           /data format of field: 2-byte INTEGER            \n",
       "TNULL419=                   -1 /NULL value column 419                           \n",
       "TTYPE420= 'E_BA2   '           /Error on BA2                                    \n",
       "TFORM420= 'E       '           /data format of field: 4-byte REAL               \n",
       "TUNIT420= 'dex     '           /physical unit of field                          \n",
       "TTYPE421= 'NN_BA2  '           /Number of Node results used for BA2             \n",
       "TFORM421= 'I       '           /data format of field: 2-byte INTEGER            \n",
       "TNULL421=                   -1 /NULL value column 421                           \n",
       "TTYPE422= 'ENN_BA2 '           /Error on BA2 from Node errors                   \n",
       "TFORM422= 'E       '           /data format of field: 4-byte REAL               \n",
       "TUNIT422= 'dex     '           /physical unit of field                          \n",
       "TTYPE423= 'NL_BA2  '           /Number of Spectral Lines used for BA2           \n",
       "TFORM423= 'I       '           /data format of field: 2-byte INTEGER            \n",
       "TNULL423=                   -1 /NULL value column 423                           \n",
       "TTYPE424= 'PROVENANCE_BA2'     /WG from which BA2 is sourced                    \n",
       "TFORM424= '4A      '           /data format of field: ASCII Character           \n",
       "TTYPE425= 'LA2     '           /Ionised Lathanum Abundance                      \n",
       "TFORM425= 'E       '           /data format of field: 4-byte REAL               \n",
       "TUNIT425= 'dex     '           /physical unit of field                          \n",
       "TTYPE426= 'UPPER_LA2'          /Flag on LA2 measurement type                    \n",
       "TFORM426= 'I       '           /data format of field: 2-byte INTEGER            \n",
       "TNULL426=                   -1 /NULL value column 426                           \n",
       "TTYPE427= 'E_LA2   '           /Error on LA2                                    \n",
       "TFORM427= 'E       '           /data format of field: 4-byte REAL               \n",
       "TUNIT427= 'dex     '           /physical unit of field                          \n",
       "TTYPE428= 'NN_LA2  '           /Number of Node results used for LA2             \n",
       "TFORM428= 'I       '           /data format of field: 2-byte INTEGER            \n",
       "TNULL428=                   -1 /NULL value column 428                           \n",
       "TTYPE429= 'ENN_LA2 '           /Error on LA2 from Node errors                   \n",
       "TFORM429= 'E       '           /data format of field: 4-byte REAL               \n",
       "TUNIT429= 'dex     '           /physical unit of field                          \n",
       "TTYPE430= 'NL_LA2  '           /Number of Spectral Lines used for LA2           \n",
       "TFORM430= 'I       '           /data format of field: 2-byte INTEGER            \n",
       "TNULL430=                   -1 /NULL value column 430                           \n",
       "TTYPE431= 'PROVENANCE_LA2'     /WG from which LA2 is sourced                    \n",
       "TFORM431= '4A      '           /data format of field: ASCII Character           \n",
       "TTYPE432= 'CE2     '           /Ionised Cerium Abundance                        \n",
       "TFORM432= 'E       '           /data format of field: 4-byte REAL               \n",
       "TUNIT432= 'dex     '           /physical unit of field                          \n",
       "TTYPE433= 'UPPER_CE2'          /Flag on CE2 measurement type                    \n",
       "TFORM433= 'I       '           /data format of field: 2-byte INTEGER            \n",
       "TNULL433=                   -1 /NULL value column 433                           \n",
       "TTYPE434= 'E_CE2   '           /Error on CE2                                    \n",
       "TFORM434= 'E       '           /data format of field: 4-byte REAL               \n",
       "TUNIT434= 'dex     '           /physical unit of field                          \n",
       "TTYPE435= 'NN_CE2  '           /Number of Node results used for CE2             \n",
       "TFORM435= 'I       '           /data format of field: 2-byte INTEGER            \n",
       "TNULL435=                   -1 /NULL value column 435                           \n",
       "TTYPE436= 'ENN_CE2 '           /Error on CE2 from Node errors                   \n",
       "TFORM436= 'E       '           /data format of field: 4-byte REAL               \n",
       "TUNIT436= 'dex     '           /physical unit of field                          \n",
       "TTYPE437= 'NL_CE2  '           /Number of Spectral Lines used for CE2           \n",
       "TFORM437= 'I       '           /data format of field: 2-byte INTEGER            \n",
       "TNULL437=                   -1 /NULL value column 437                           \n",
       "TTYPE438= 'PROVENANCE_CE2'     /WG from which CE2 is sourced                    \n",
       "TFORM438= '4A      '           /data format of field: ASCII Character           \n",
       "TTYPE439= 'PR2     '           /Ionised Praseodymium Abundance                  \n",
       "TFORM439= 'E       '           /data format of field: 4-byte REAL               \n",
       "TUNIT439= 'dex     '           /physical unit of field                          \n",
       "TTYPE440= 'UPPER_PR2'          /Flag on PR2 measurement type                    \n",
       "TFORM440= 'I       '           /data format of field: 2-byte INTEGER            \n",
       "TNULL440=                   -1 /NULL value column 440                           \n",
       "TTYPE441= 'E_PR2   '           /Error on PR2                                    \n",
       "TFORM441= 'E       '           /data format of field: 4-byte REAL               \n",
       "TUNIT441= 'dex     '           /physical unit of field                          \n",
       "TTYPE442= 'NN_PR2  '           /Number of Node results used for PR2             \n",
       "TFORM442= 'I       '           /data format of field: 2-byte INTEGER            \n",
       "TNULL442=                   -1 /NULL value column 442                           \n",
       "TTYPE443= 'ENN_PR2 '           /Error on PR2 from Node errors                   \n",
       "TFORM443= 'E       '           /data format of field: 4-byte REAL               \n",
       "TUNIT443= 'dex     '           /physical unit of field                          \n",
       "TTYPE444= 'NL_PR2  '           /Number of Spectral Lines used for PR2           \n",
       "TFORM444= 'I       '           /data format of field: 2-byte INTEGER            \n",
       "TNULL444=                   -1 /NULL value column 444                           \n",
       "TTYPE445= 'PROVENANCE_PR2'     /WG from which PR2 is sourced                    \n",
       "TFORM445= 'A       '           /data format of field: ASCII Character           \n",
       "TTYPE446= 'ND2     '           /Ionised Neodymium Abundance                     \n",
       "TFORM446= 'E       '           /data format of field: 4-byte REAL               \n",
       "TUNIT446= 'dex     '           /physical unit of field                          \n",
       "TTYPE447= 'UPPER_ND2'          /Flag on ND2 measurement type                    \n",
       "TFORM447= 'I       '           /data format of field: 2-byte INTEGER            \n",
       "TNULL447=                   -1 /NULL value column 447                           \n",
       "TTYPE448= 'E_ND2   '           /Error on ND2                                    \n",
       "TFORM448= 'E       '           /data format of field: 4-byte REAL               \n",
       "TUNIT448= 'dex     '           /physical unit of field                          \n",
       "TTYPE449= 'NN_ND2  '           /Number of Node results used for ND2             \n",
       "TFORM449= 'I       '           /data format of field: 2-byte INTEGER            \n",
       "TNULL449=                   -1 /NULL value column 449                           \n",
       "TTYPE450= 'ENN_ND2 '           /Error on ND2 from Node errors                   \n",
       "TFORM450= 'E       '           /data format of field: 4-byte REAL               \n",
       "TUNIT450= 'dex     '           /physical unit of field                          \n",
       "TTYPE451= 'NL_ND2  '           /Number of Spectral Lines used for ND2           \n",
       "TFORM451= 'I       '           /data format of field: 2-byte INTEGER            \n",
       "TNULL451=                   -1 /NULL value column 451                           \n",
       "TTYPE452= 'PROVENANCE_ND2'     /WG from which ND2 is sourced                    \n",
       "TFORM452= '4A      '           /data format of field: ASCII Character           \n",
       "TTYPE453= 'SM2     '           /Ionised Samarium Abundance                      \n",
       "TFORM453= 'E       '           /data format of field: 4-byte REAL               \n",
       "TUNIT453= 'dex     '           /physical unit of field                          \n",
       "TTYPE454= 'UPPER_SM2'          /Flag on SM2 measurement type                    \n",
       "TFORM454= 'I       '           /data format of field: 2-byte INTEGER            \n",
       "TNULL454=                   -1 /NULL value column 454                           \n",
       "TTYPE455= 'E_SM2   '           /Error on SM2                                    \n",
       "TFORM455= 'E       '           /data format of field: 4-byte REAL               \n",
       "TUNIT455= 'dex     '           /physical unit of field                          \n",
       "TTYPE456= 'NN_SM2  '           /Number of Node results used for SM2             \n",
       "TFORM456= 'I       '           /data format of field: 2-byte INTEGER            \n",
       "TNULL456=                   -1 /NULL value column 456                           \n",
       "TTYPE457= 'ENN_SM2 '           /Error on SM2 from Node errors                   \n",
       "TFORM457= 'E       '           /data format of field: 4-byte REAL               \n",
       "TUNIT457= 'dex     '           /physical unit of field                          \n",
       "TTYPE458= 'NL_SM2  '           /Number of Spectral Lines used for SM2           \n",
       "TFORM458= 'I       '           /data format of field: 2-byte INTEGER            \n",
       "TNULL458=                   -1 /NULL value column 458                           \n",
       "TTYPE459= 'PROVENANCE_SM2'     /WG from which SM2 is sourced                    \n",
       "TFORM459= 'A       '           /data format of field: ASCII Character           \n",
       "TTYPE460= 'EU2     '           /Ionised Europium Abundance                      \n",
       "TFORM460= 'E       '           /data format of field: 4-byte REAL               \n",
       "TUNIT460= 'dex     '           /physical unit of field                          \n",
       "TTYPE461= 'UPPER_EU2'          /Flag on EU2 measurement type                    \n",
       "TFORM461= 'I       '           /data format of field: 2-byte INTEGER            \n",
       "TNULL461=                   -1 /NULL value column 461                           \n",
       "TTYPE462= 'E_EU2   '           /Error on EU2                                    \n",
       "TFORM462= 'E       '           /data format of field: 4-byte REAL               \n",
       "TUNIT462= 'dex     '           /physical unit of field                          \n",
       "TTYPE463= 'NN_EU2  '           /Number of Node results used for EU2             \n",
       "TFORM463= 'I       '           /data format of field: 2-byte INTEGER            \n",
       "TNULL463=                   -1 /NULL value column 463                           \n",
       "TTYPE464= 'ENN_EU2 '           /Error on EU2 from Node errors                   \n",
       "TFORM464= 'E       '           /data format of field: 4-byte REAL               \n",
       "TUNIT464= 'dex     '           /physical unit of field                          \n",
       "TTYPE465= 'NL_EU2  '           /Number of Spectral Lines used for EU2           \n",
       "TFORM465= 'I       '           /data format of field: 2-byte INTEGER            \n",
       "TNULL465=                   -1 /NULL value column 465                           \n",
       "TTYPE466= 'PROVENANCE_EU2'     /WG from which EU2 is sourced                    \n",
       "TFORM466= '4A      '           /data format of field: ASCII Character           \n",
       "TTYPE467= 'GD2     '           /Ionised Gadolinium Abundance                    \n",
       "TFORM467= 'E       '           /data format of field: 4-byte REAL               \n",
       "TUNIT467= 'dex     '           /physical unit of field                          \n",
       "TTYPE468= 'UPPER_GD2'          /Flag on GD2 measurement type                    \n",
       "TFORM468= 'I       '           /data format of field: 2-byte INTEGER            \n",
       "TNULL468=                   -1 /NULL value column 468                           \n",
       "TTYPE469= 'E_GD2   '           /Error on GD2                                    \n",
       "TFORM469= 'E       '           /data format of field: 4-byte REAL               \n",
       "TUNIT469= 'dex     '           /physical unit of field                          \n",
       "TTYPE470= 'NN_GD2  '           /Number of Node results used for GD2             \n",
       "TFORM470= 'I       '           /data format of field: 2-byte INTEGER            \n",
       "TNULL470=                   -1 /NULL value column 470                           \n",
       "TTYPE471= 'ENN_GD2 '           /Error on GD2 from Node errors                   \n",
       "TFORM471= 'E       '           /data format of field: 4-byte REAL               \n",
       "TUNIT471= 'dex     '           /physical unit of field                          \n",
       "TTYPE472= 'NL_GD2  '           /Number of Spectral Lines used for GD2           \n",
       "TFORM472= 'I       '           /data format of field: 2-byte INTEGER            \n",
       "TNULL472=                   -1 /NULL value column 472                           \n",
       "TTYPE473= 'DY2     '           /Ionised Dysprosium Abundance                    \n",
       "TFORM473= 'E       '           /data format of field: 4-byte REAL               \n",
       "TUNIT473= 'dex     '           /physical unit of field                          \n",
       "TTYPE474= 'UPPER_DY2'          /Flag on DY2 measurement type                    \n",
       "TFORM474= 'I       '           /data format of field: 2-byte INTEGER            \n",
       "TNULL474=                   -1 /NULL value column 474                           \n",
       "TTYPE475= 'E_DY2   '           /Error on DY2                                    \n",
       "TFORM475= 'E       '           /data format of field: 4-byte REAL               \n",
       "TUNIT475= 'dex     '           /physical unit of field                          \n",
       "TTYPE476= 'NN_DY2  '           /Number of Node results used for DY2             \n",
       "TFORM476= 'I       '           /data format of field: 2-byte INTEGER            \n",
       "TNULL476=                   -1 /NULL value column 476                           \n",
       "TTYPE477= 'ENN_DY2 '           /Error on DY2 from Node errors                   \n",
       "TFORM477= 'E       '           /data format of field: 4-byte REAL               \n",
       "TUNIT477= 'dex     '           /physical unit of field                          \n",
       "TTYPE478= 'NL_DY2  '           /Number of Spectral Lines used for DY2           \n",
       "TFORM478= 'I       '           /data format of field: 2-byte INTEGER            \n",
       "TNULL478=                   -1 /NULL value column 478                           \n",
       "TTYPE479= 'SPT     '           /Spectral Type                                   \n",
       "TFORM479= '8A      '           /data format of field: ASCII Character           \n",
       "TTYPE480= 'VEIL    '           /Veiling                                         \n",
       "TFORM480= 'E       '           /data format of field: 4-byte REAL               \n",
       "TTYPE481= 'E_VEIL  '           /Error on VEIL                                   \n",
       "TFORM481= 'E       '           /data format of field: 4-byte REAL               \n",
       "TTYPE482= 'EW_LI   '           /Li(6708A) equivalent width                      \n",
       "TFORM482= 'E       '           /data format of field: 4-byte REAL               \n",
       "TUNIT482= 'mAngstroms'         /physical unit of field                          \n",
       "TTYPE483= 'LIM_EW_LI'          /Flag on EW_LI                                   \n",
       "TFORM483= 'I       '           /data format of field: 2-byte INTEGER            \n",
       "TNULL483=                   -1 /NULL value column 483                           \n",
       "TTYPE484= 'E_EW_LI '           /Error on EW_LI                                  \n",
       "TFORM484= 'E       '           /data format of field: 4-byte REAL               \n",
       "TUNIT484= 'mAngstroms'         /physical unit of field                          \n",
       "TTYPE485= 'PROVENANCE_EW_LI'   /WG from which EW_LI is sourced                  \n",
       "TFORM485= 'A       '           /data format of field: ASCII Character           \n",
       "TTYPE486= 'EWC_LI  '           /Blends-corrected Li(6708A) equivalent width     \n",
       "TFORM486= 'E       '           /data format of field: 4-byte REAL               \n",
       "TUNIT486= 'mAngstroms'         /physical unit of field                          \n",
       "TTYPE487= 'LIM_EWC_LI'         /Flag on EWC_LI                                  \n",
       "TFORM487= 'I       '           /data format of field: 2-byte INTEGER            \n",
       "TNULL487=                   -1 /NULL value column 487                           \n",
       "TTYPE488= 'E_EWC_LI'           /Error on EWC_LI                                 \n",
       "TFORM488= 'E       '           /data format of field: 4-byte REAL               \n",
       "TUNIT488= 'mAngstroms'         /physical unit of field                          \n",
       "TTYPE489= 'EW_HA_ACC'          /Halpha EW: accretion                            \n",
       "TFORM489= 'E       '           /data format of field: 4-byte REAL               \n",
       "TUNIT489= 'Angstroms'          /physical unit of field                          \n",
       "TTYPE490= 'E_EW_HA_ACC'        /Error on EW_HA_ACC                              \n",
       "TFORM490= 'E       '           /data format of field: 4-byte REAL               \n",
       "TUNIT490= 'Angstroms'          /physical unit of field                          \n",
       "TTYPE491= 'HA10    '           /Halpha EW at 10% of peak - accretion            \n",
       "TFORM491= 'E       '           /data format of field: 4-byte REAL               \n",
       "TUNIT491= 'km/s    '           /physical unit of field                          \n",
       "TTYPE492= 'E_HA10  '           /Error on HA10                                   \n",
       "TFORM492= 'E       '           /data format of field: 4-byte REAL               \n",
       "TUNIT492= 'km/s    '           /physical unit of field                          \n",
       "TTYPE493= 'EW_HA_CHR'          /Halpha EW: chromospheric activity               \n",
       "TFORM493= 'E       '           /data format of field: 4-byte REAL               \n",
       "TUNIT493= 'Angstroms'          /physical unit of field                          \n",
       "TTYPE494= 'E_EW_HA_CHR'        /Error on ewHA_CHR                               \n",
       "TFORM494= 'E       '           /data format of field: 4-byte REAL               \n",
       "TUNIT494= 'Angstroms'          /physical unit of field                          \n",
       "TTYPE495= 'FHA_CHR '           /H-alpha chromospheric flux                      \n",
       "TFORM495= 'E       '           /data format of field: 4-byte REAL               \n",
       "TUNIT495= 'erg/cm$^2$/s/A'     /physical unit of field                          \n",
       "TTYPE496= 'E_FHA_CHR'          /Error on FHA_CHR                                \n",
       "TFORM496= 'E       '           /data format of field: 4-byte REAL               \n",
       "TUNIT496= 'erg/cm$^2$/s/A'     /physical unit of field                          \n",
       "TTYPE497= 'FWZI    '           /H-alpha Full Width at Zero Intensity (accretion)\n",
       "TFORM497= 'E       '           /data format of field: 4-byte REAL               \n",
       "TUNIT497= 'Angstroms'          /physical unit of field                          \n",
       "TTYPE498= 'E_FWZI  '           /Error on FWZI                                   \n",
       "TFORM498= 'E       '           /data format of field: 4-byte REAL               \n",
       "TUNIT498= 'Angstroms'          /physical unit of field                          \n",
       "TTYPE499= 'EW_HB_CHR'          /Hbeta EW: chromospheric activity                \n",
       "TFORM499= 'E       '           /data format of field: 4-byte REAL               \n",
       "TUNIT499= 'Angstroms'          /physical unit of field                          \n",
       "TTYPE500= 'E_EW_HB_CHR'        /Error on EW_HB_CHR                              \n",
       "TFORM500= 'E       '           /data format of field: 4-byte REAL               \n",
       "TUNIT500= 'Angstroms'          /physical unit of field                          \n",
       "TTYPE501= 'FHB_CHR '           /H-beta chromospheric flux                       \n",
       "TFORM501= 'E       '           /data format of field: 4-byte REAL               \n",
       "TUNIT501= 'erg/cm$^2$/s/A'     /physical unit of field                          \n",
       "TTYPE502= 'E_FHB_CHR'          /Error on FHB_CHR                                \n",
       "TFORM502= 'E       '           /data format of field: 4-byte REAL               \n",
       "TUNIT502= 'erg/cm$^2$/s/A'     /physical unit of field                          \n",
       "TTYPE503= 'LOG_MDOT_ACC'       /The log of the accretion rate                   \n",
       "TFORM503= 'E       '           /data format of field: 4-byte REAL               \n",
       "TUNIT503= 'Msolar/yr'          /physical unit of field                          \n",
       "TTYPE504= 'E_LOG_MDOT_ACC'     /Error on LOG_MDOT_ACC                           \n",
       "TFORM504= 'E       '           /data format of field: 4-byte REAL               \n",
       "TUNIT504= 'Msolar/yr'          /physical unit of field                          \n",
       "TTYPE505= 'LOG_L_ACC'          /The log of the luminosity accretion rate        \n",
       "TFORM505= 'E       '           /data format of field: 4-byte REAL               \n",
       "TUNIT505= 'Msolar/yr'          /physical unit of field                          \n",
       "TTYPE506= 'E_LOG_L_ACC'        /Error on LOG_L_ACC                              \n",
       "TFORM506= 'E       '           /data format of field: 4-byte REAL               \n",
       "TUNIT506= 'Msolar/yr'          /physical unit of field                          \n",
       "TTYPE507= 'GAMMA   '           /Gravity sensitive spectral index                \n",
       "TFORM507= 'E       '           /data format of field: 4-byte REAL               \n",
       "TTYPE508= 'E_GAMMA '           /Error on GAMMA                                  \n",
       "TFORM508= 'E       '           /data format of field: 4-byte REAL               \n",
       "TTYPE509= 'CONVOL  '           /Synthetic spectra convolution factor            \n",
       "TFORM509= 'E       '           /data format of field: 4-byte REAL               \n",
       "TUNIT509= 'km/s    '           /physical unit of field                          \n",
       "TTYPE510= 'E_CONVOL'           /Error on CONVOL                                 \n",
       "TFORM510= 'E       '           /data format of field: 4-byte REAL               \n",
       "TUNIT510= 'km/s    '           /physical unit of field                          \n",
       "TTYPE511= 'M_ALPHA '           /MyGIsFOS grid interpolated [alpha/Fe]           \n",
       "TFORM511= 'E       '           /data format of field: 4-byte REAL               \n",
       "TUNIT511= 'dex     '           /physical unit of field                          \n",
       "TTYPE512= 'M_GRID  '           /MyGIsFOS grid employed                          \n",
       "TFORM512= 'A       '           /data format of field: ASCII Character           \n",
       "TTYPE513= 'M_BROAD '           /MyGISFOS broad applied to grid                  \n",
       "TFORM513= 'E       '           /data format of field: 4-byte REAL               \n",
       "TUNIT513= 'km/s    '           /physical unit of field                          \n",
       "TTYPE514= 'M_LOOPS '           /MyGIsFOS number of iterations                   \n",
       "TFORM514= 'I       '           /data format of field: 2-byte INTEGER            \n",
       "TNULL514=                   -1 /NULL value column 514                           \n",
       "TTYPE515= 'M_NAME  '           /MyGIsFOS internal unique dataset name           \n",
       "TFORM515= 'A       '           /data format of field: ASCII Character           \n",
       "TTYPE516= 'PECULI  '           /Peculiarity Flag(s): WG14 Dict.1000-2999        \n",
       "TFORM516= '152A    '           /data format of field: ASCII Character           \n",
       "TTYPE517= 'REMARK  '           /Spec. Class. Flags(s): WG14 Dict.3000-8999      \n",
       "TFORM517= '16A     '           /data format of field: ASCII Character           \n",
       "TTYPE518= 'TECH    '           /Technical Flag(s): WG14 Dict.9000-15000         \n",
       "TFORM518= '1444A   '           /data format of field: ASCII Character           "
      ]
     },
     "execution_count": 29,
     "metadata": {},
     "output_type": "execute_result"
    }
   ],
   "source": [
    "header1"
   ]
  },
  {
   "cell_type": "markdown",
   "metadata": {
    "collapsed": true
   },
   "source": [
    "We'll need to get all columns corresponding to the abundance of the various elements.\n",
    "After a few tests and tries, we see that the first column we are interested in is in the 219th place. We also notice that jumping every 20 columns gives us what we need, but that the jumps aren't as regular as that. We need to go back two steps every so often, otherwise we get 'dex' columns instead of abundance columns. \n",
    "Let's get all names we are interested in into one single list : "
   ]
  },
  {
   "cell_type": "code",
   "execution_count": 30,
   "metadata": {
    "collapsed": false
   },
   "outputs": [],
   "source": [
    "i=218 #start at 219th place\n",
    "ab=[]\n",
    "while i<1375 : #We found where to stop by trial and error. This condition is sufficient to give us all elements and only them\n",
    "    \n",
    "    if header1[i]=='dex' : #dealing with the problem of the jumps not being totally regular\n",
    "        i=i-2 #jump back two places\n",
    "    ab.append(header1[i])\n",
    "    \n",
    "    i+=20\n",
    "    "
   ]
  },
  {
   "cell_type": "code",
   "execution_count": 31,
   "metadata": {
    "collapsed": false
   },
   "outputs": [
    {
     "name": "stdout",
     "output_type": "stream",
     "text": [
      "['C1', 'C2', 'C3', 'C_C2', 'N2', 'N3', 'N_CN', 'O1', 'O2', 'NE1', 'NE2', 'NA1', 'MG1', 'MG2', 'AL1', 'AL2', 'AL3', 'SI1', 'SI2', 'SI3', 'SI4', 'S1', 'S2', 'S3', 'CA1', 'CA2', 'SC1', 'SC2', 'TI1', 'TI2', 'V1', 'V2', 'CR1', 'CR2', 'MN1', 'FE1', 'FE2', 'FE3', 'CO1', 'NI1', 'CU1', 'ZN1', 'SR1', 'Y1', 'Y2', 'ZR1', 'ZR2', 'NB1', 'MO1', 'RU1', 'BA2', 'LA2', 'CE2', 'PR2', 'ND2', 'SM2', 'EU2', 'GD2', 'DY2']\n"
     ]
    }
   ],
   "source": [
    "print(ab)"
   ]
  },
  {
   "cell_type": "code",
   "execution_count": 32,
   "metadata": {
    "collapsed": false
   },
   "outputs": [
    {
     "name": "stdout",
     "output_type": "stream",
     "text": [
      "there are 59 elements which abundance we will consider.\n"
     ]
    }
   ],
   "source": [
    "print('there are '+str(len(ab))+' elements which abundance we will consider.')"
   ]
  },
  {
   "cell_type": "markdown",
   "metadata": {},
   "source": [
    "#### Création de graphes rapports d'abondance/métallicité\n",
    "_______"
   ]
  },
  {
   "cell_type": "markdown",
   "metadata": {
    "collapsed": true
   },
   "source": [
    "We are interested in extracting the relative abundance **[X/Fe]**, where *X* is a given element. \n",
    "\n",
    "The abundance units given by the data are such that we can write the following : **[X/Fe] = Xstar - Xsun - [Fe/H]**\n",
    ", where **Xstar** is the abundance of *X* in a given star, **Xsun** the abundance of *X* in the sun and **[Fe/H]** is the metallicity previously used as our x-axis.\n",
    "\n",
    "It will thus be essential to use specific data for **Xsun**. We find such data, with the same units as in the .fits file, in :\n",
    "\n",
    "**\"The chemical composition of the Sun\"**, Martin Asplund, Nicolas Grevesse, A. Jacques Sauval, Pat Scott    *(Submitted on 4 Sep 2009)*\n",
    "https://arxiv.org/abs/0909.0948\n",
    "\n",
    "Let us gather the data and their error for the elements that we consider (those in the \"ab\" list) :"
   ]
  },
  {
   "cell_type": "code",
   "execution_count": 66,
   "metadata": {
    "collapsed": false
   },
   "outputs": [],
   "source": [
    "ab_sun1=[]\n",
    "for element in ab :\n",
    "    if '1' in element : #lists non-ionized elements \n",
    "        ab_sun1.append(element)"
   ]
  },
  {
   "cell_type": "markdown",
   "metadata": {},
   "source": [
    "The following cell is used to build a list containing only s and r -processes elements :"
   ]
  },
  {
   "cell_type": "code",
   "execution_count": 67,
   "metadata": {
    "collapsed": false
   },
   "outputs": [],
   "source": [
    "ab_sun=['C1']\n",
    "i=47\n",
    "while i<len(ab) :\n",
    "    ab_sun.append(ab[i])\n",
    "    i+=1\n",
    "    \n"
   ]
  },
  {
   "cell_type": "code",
   "execution_count": 68,
   "metadata": {
    "collapsed": false
   },
   "outputs": [
    {
     "name": "stdout",
     "output_type": "stream",
     "text": [
      "['C1', 'O1', 'NE1', 'NA1', 'MG1', 'AL1', 'SI1', 'S1', 'CA1', 'SC1', 'TI1', 'V1', 'CR1', 'MN1', 'FE1', 'CO1', 'NI1', 'CU1', 'ZN1', 'SR1', 'Y1', 'ZR1', 'NB1', 'MO1', 'RU1']\n"
     ]
    }
   ],
   "source": [
    "print(ab_sun1)"
   ]
  },
  {
   "cell_type": "markdown",
   "metadata": {},
   "source": [
    "The data and error have to be written into arrays \"by hand\"."
   ]
  },
  {
   "cell_type": "code",
   "execution_count": 69,
   "metadata": {
    "collapsed": true
   },
   "outputs": [],
   "source": [
    "ab_sun_data1=[8.43,8.43,8.43,7.83,7.83,8.69,8.69,7.93,7.93,6.24,7.60,6.45,7.51,7.12,6.34,3.15,4.95,3.93,5.64,5.43,7.50,4.99,6.22,4.19,4.56,2.87,2.21,2.58,1.46,1.88,1.75]"
   ]
  },
  {
   "cell_type": "code",
   "execution_count": 71,
   "metadata": {
    "collapsed": false
   },
   "outputs": [],
   "source": [
    "ab_sun_error1=[0.05,0.05,0.10,0.04,0.04,0.03,0.03,0.03,0.04,0.04,0.05,0.08,0.04,0.05,0.04,0.07,0.04,0.04,0.05,0.07,0.05,0.04,0.04,0.08,0.08]"
   ]
  },
  {
   "cell_type": "code",
   "execution_count": 73,
   "metadata": {
    "collapsed": false
   },
   "outputs": [
    {
     "name": "stdout",
     "output_type": "stream",
     "text": [
      "OK\n"
     ]
    }
   ],
   "source": [
    "if(len(ab_sun_data1)==len(ab_sun_error1)):\n",
    "    print('OK')"
   ]
  },
  {
   "cell_type": "markdown",
   "metadata": {},
   "source": [
    "We are now ready to plot **[X/Fe]** vs **[Fe/H]**.\n",
    "\n",
    "Note that the two lists containing errors for **[X/Fe]** and **[Fe/H]** that we make in the code below can be used to impose conditions on the data appearing in graphs."
   ]
  },
  {
   "cell_type": "code",
   "execution_count": null,
   "metadata": {
    "collapsed": false
   },
   "outputs": [],
   "source": [
    "abun=[]\n",
    "errabun=[]\n",
    "metal=[]\n",
    "errmetal=[]\n",
    "\n",
    "\n",
    "i=0\n",
    "def makeplot(i) :\n",
    "    \n",
    "    pyplot.figure(i)\n",
    "    \n",
    "    pyplot.figure(figsize=(10,10))\n",
    "    \n",
    "    pyplot.scatter(metal[i],abun[i],s=0.8)\n",
    "    pyplot.title(str(ab_sun1[i]))\n",
    "    pyplot.xlabel('[C/Fe]', fontsize=14)\n",
    "    pyplot.ylabel( '['+str(ab_sun1[i])+'/Fe]', fontsize=14)\n",
    "    #pyplot.errorbar(metal[i], abun[i], xerr=errmetal[i], yerr=errabun[i],ls='none',color='#95d0fc',elinewidth=0.2)\n",
    "    pyplot.ylim(-3.5, 3.5) \n",
    "    \n",
    "\n",
    "\n",
    "while i<len(ab_sun1) : #i spans elements in ab_sun1\n",
    "    \n",
    "    abun.append(alldata[str(ab_sun1[i])]-(numpy.ones_like(alldata[str(ab_sun1[i])]))*ab_sun_data1[i]-alldata['FEH'])\n",
    "    \n",
    "    metal.append(alldata['FEH'])\n",
    "    errmetal.append(alldata['E_FEH'])\n",
    "    errabun.append(numpy.sqrt((alldata['E_'+str(ab_sun1[i])])**2+((numpy.ones_like(alldata[str(ab_sun1[i])]))*ab_sun_error1[i])**2+(alldata['E_FEH'])**2))\n",
    " \n",
    "    \n",
    "   \n",
    "        \n",
    "        \n",
    "        \n",
    "    print(ab_sun1[i])\n",
    "    \n",
    "    if len(abun[i])>1 :\n",
    "        makeplot(i)\n",
    "    \n",
    "       \n",
    "    i+=1"
   ]
  },
  {
   "cell_type": "markdown",
   "metadata": {},
   "source": [
    "### r-enriched and s-enriched stars"
   ]
  },
  {
   "cell_type": "markdown",
   "metadata": {},
   "source": [
    "We list below the solar data for s-process and r-process elements."
   ]
  },
  {
   "cell_type": "code",
   "execution_count": 70,
   "metadata": {
    "collapsed": true
   },
   "outputs": [],
   "source": [
    "ab_sun_data=[8.43,1.46,1.88,1.75,2.18,1.1,1.58,0.72,1.42,0.96,0.52,1.07,1.1]"
   ]
  },
  {
   "cell_type": "code",
   "execution_count": 72,
   "metadata": {
    "collapsed": true
   },
   "outputs": [],
   "source": [
    "ab_sun_error=[0.05,0.04,0.08,0.08,0.09,0.04,0.04,0.04,0.04,0.04,0.04,0.04,0.04]"
   ]
  },
  {
   "cell_type": "markdown",
   "metadata": {},
   "source": [
    "In the code below, we make the abundance graphs for **[X/C]** vs **[C/Fe]**. \n",
    "\n",
    "Those list all stars for which data is available on r-process and s-process elements. "
   ]
  },
  {
   "cell_type": "code",
   "execution_count": null,
   "metadata": {
    "collapsed": false
   },
   "outputs": [],
   "source": [
    "abun=[]\n",
    "abun2=[]\n",
    "abunC=[]\n",
    "errabun=[]\n",
    "errabun2=[]\n",
    "metal=[]\n",
    "metal2=[]\n",
    "errmetal=[]\n",
    "errmetal2=[]\n",
    "\n",
    "abun_all=[]\n",
    "abunC_all=[]\n",
    "i=0\n",
    "def makeplot(i) :\n",
    "    \n",
    "    pyplot.figure(i)\n",
    "    \n",
    "    pyplot.figure(figsize=(10,10))\n",
    "    \n",
    "    pyplot.scatter(abun[0],abun[i],s=0.8)\n",
    "    \n",
    "    pyplot.scatter(abunC[i],abun2[i],s=0.8)\n",
    "    pyplot.scatter(abun[0][1087],abun[i][1087],color='lime',s=15.) #highlight HD749 \n",
    "    pyplot.title(str(ab_sun[i]))\n",
    "    pyplot.xlabel('[C/Fe]', fontsize=14)\n",
    "    pyplot.ylabel( '['+str(ab_sun[i])+'/Fe]', fontsize=14)\n",
    "    #pyplot.errorbar(metal[i], abun[i], xerr=errmetal[i], yerr=errabun[i],ls='none',color='#95d0fc',elinewidth=0.2)\n",
    "    pyplot.ylim(-0.75, 2.5) \n",
    "    pyplot.xlim(-1.5, 2)\n",
    "\n",
    "while i<len(ab_sun) : #i spans all elements in ab_sun\n",
    "    abun.append(alldata[str(ab_sun[i])]-(numpy.ones_like(alldata[str(ab_sun[i])]))*ab_sun_data[i]-alldata['FEH'])\n",
    "    abun2.append([])\n",
    "    abunC.append([])\n",
    "    abun_all.append([])\n",
    "    abunC_all.append([])\n",
    "    metal.append(alldata['FEH'])\n",
    "    errmetal.append(alldata['E_FEH'])\n",
    "    errabun.append(numpy.sqrt((alldata['E_'+str(ab_sun[i])])**2+((numpy.ones_like(alldata[str(ab_sun[i])]))*ab_sun_error[i])**2+(alldata['E_FEH'])**2))\n",
    " \n",
    "    \n",
    "   \n",
    "        \n",
    "        \n",
    "        \n",
    "    print(ab_sun[i])\n",
    "    ab[i] = [x for x in abun[i] if str(x) != 'nan']\n",
    "    if len(ab[i])>1 :\n",
    "        makeplot(i)\n",
    "    \n",
    "       \n",
    "    i+=1"
   ]
  },
  {
   "cell_type": "markdown",
   "metadata": {},
   "source": [
    "The code below builds the list 'dev' containing inferior limits on 'enrichment' in a given element. They are built from a three-sigma on the best-fitting normal distribution for the denser part of each set of data. "
   ]
  },
  {
   "cell_type": "code",
   "execution_count": null,
   "metadata": {
    "collapsed": false,
    "scrolled": false
   },
   "outputs": [],
   "source": [
    "i=0\n",
    "dev=[]\n",
    "while i<len(ab_sun) :\n",
    "    pyplot.xlim(-2,2)\n",
    "\n",
    "    bins=numpy.arange(-2,2, 0.1)\n",
    "    \n",
    "    abb = [x for x in ab[i] if x>-0.4 and x<0.4]\n",
    "    \n",
    "    dev.append(numpy.mean(abb)+3*numpy.std(abb, ddof=1))\n",
    "    if str(dev[i])=='nan' :\n",
    "        dev[i]=10\n",
    "\n",
    "\n",
    "    \n",
    "    #pyplot.figure(i)\n",
    "    #pyplot.hist(ab[i],bins,normed=False);\n",
    "    \n",
    "    \n",
    "    \n",
    "    i+=1\n",
    "    \n",
    "    "
   ]
  },
  {
   "cell_type": "markdown",
   "metadata": {},
   "source": [
    "We use the code below to list enriched stars from the inferior boundary condition set above in a list called \"interest\"."
   ]
  },
  {
   "cell_type": "code",
   "execution_count": 110,
   "metadata": {
    "collapsed": false
   },
   "outputs": [
    {
     "name": "stderr",
     "output_type": "stream",
     "text": [
      "C:\\Users\\Frédérick\\Anaconda3\\lib\\site-packages\\ipykernel\\__main__.py:26: RuntimeWarning: invalid value encountered in greater\n"
     ]
    },
    {
     "name": "stdout",
     "output_type": "stream",
     "text": [
      "C1\n",
      "NB1\n",
      "MO1\n",
      "RU1\n",
      "BA2\n",
      "LA2\n",
      "CE2\n",
      "PR2\n",
      "ND2\n",
      "SM2\n",
      "EU2\n",
      "GD2\n",
      "DY2\n"
     ]
    }
   ],
   "source": [
    "interest=[]\n",
    "abun=[]\n",
    "\n",
    "errabun=[]\n",
    "metal=[]\n",
    "errmetal=[]\n",
    "\n",
    "\n",
    "\n",
    "i=0\n",
    "\n",
    "\n",
    "while i<len(ab_sun) :\n",
    "    abun.append(alldata[str(ab_sun[i])]-(numpy.ones_like(alldata[str(ab_sun[i])]))*ab_sun_data[i]-alldata['FEH'])\n",
    "\n",
    "    interest.append([])\n",
    " \n",
    "    metal.append(alldata['FEH'])\n",
    "    errmetal.append(alldata['E_FEH'])\n",
    "    errabun.append(numpy.sqrt((alldata['E_'+str(ab_sun[i])])**2+((numpy.ones_like(alldata[str(ab_sun[i])]))*ab_sun_error[i])**2+(alldata['E_FEH'])**2))\n",
    " \n",
    "    \n",
    "    j=0\n",
    "    while j<len(metal[i]) :\n",
    "        \n",
    "        if abun[i][j]>dev[i] and str(abun[0][j])!='nan'  and str(abun[i][j])!='nan':#sets condition for enrichment \n",
    "            \n",
    "            \n",
    "            \n",
    "            interest[i].append(j)\n",
    "            \n",
    "        else :\n",
    "            abun=abun\n",
    "            \n",
    "        j+=1\n",
    "        \n",
    "   \n",
    "        \n",
    "        \n",
    "        \n",
    "    print(ab_sun[i])\n",
    "    ab[i] = [x for x in abun[i] if str(x) != 'nan']\n",
    "    \n",
    "    \n",
    "       \n",
    "    i+=1"
   ]
  },
  {
   "cell_type": "markdown",
   "metadata": {},
   "source": [
    "Below, we set the condition for the definitive list of stars we highlight as being s-enriched and r-enriched."
   ]
  },
  {
   "cell_type": "code",
   "execution_count": 111,
   "metadata": {
    "collapsed": true
   },
   "outputs": [],
   "source": [
    "reinterest = [x for x in interest if len(x) > 1]"
   ]
  },
  {
   "cell_type": "code",
   "execution_count": 112,
   "metadata": {
    "collapsed": false
   },
   "outputs": [
    {
     "data": {
      "text/plain": [
       "18"
      ]
     },
     "execution_count": 112,
     "metadata": {},
     "output_type": "execute_result"
    }
   ],
   "source": [
    "len(interest[2])"
   ]
  },
  {
   "cell_type": "code",
   "execution_count": 113,
   "metadata": {
    "collapsed": false
   },
   "outputs": [
    {
     "name": "stdout",
     "output_type": "stream",
     "text": [
      "['C1', 'NB1', 'MO1', 'RU1', 'BA2', 'LA2', 'CE2', 'PR2', 'ND2', 'SM2', 'EU2', 'GD2', 'DY2']\n"
     ]
    }
   ],
   "source": [
    "print(ab_sun)"
   ]
  },
  {
   "cell_type": "code",
   "execution_count": 114,
   "metadata": {
    "collapsed": true
   },
   "outputs": [],
   "source": [
    "reinterest_elements=['MO1','BA2','LA2','CE2','ND2','EU2']"
   ]
  },
  {
   "cell_type": "markdown",
   "metadata": {},
   "source": [
    "#### s-enriched :"
   ]
  },
  {
   "cell_type": "code",
   "execution_count": 115,
   "metadata": {
    "collapsed": false
   },
   "outputs": [],
   "source": [
    "s_list=set(interest[4]).intersection(interest[6])\n"
   ]
  },
  {
   "cell_type": "markdown",
   "metadata": {},
   "source": [
    "#### r-enriched :"
   ]
  },
  {
   "cell_type": "code",
   "execution_count": 116,
   "metadata": {
    "collapsed": false
   },
   "outputs": [],
   "source": [
    "r_list=set(interest[8]).intersection(interest[10])\n"
   ]
  },
  {
   "cell_type": "code",
   "execution_count": 117,
   "metadata": {
    "collapsed": false
   },
   "outputs": [
    {
     "name": "stdout",
     "output_type": "stream",
     "text": [
      "15 27\n"
     ]
    }
   ],
   "source": [
    "print(len(s_list),len(r_list))"
   ]
  },
  {
   "cell_type": "markdown",
   "metadata": {},
   "source": [
    "The code below builds all graphs for s-process and r-process elements with sufficient data and highlights stars of particular interest for s-process and r-process elements."
   ]
  },
  {
   "cell_type": "code",
   "execution_count": null,
   "metadata": {
    "collapsed": false
   },
   "outputs": [],
   "source": [
    "interest=[]\n",
    "abun=[]\n",
    "abun2=[]\n",
    "abunC=[]\n",
    "errabun=[]\n",
    "errabun2=[]\n",
    "metal=[]\n",
    "metal2=[]\n",
    "errmetal=[]\n",
    "errmetal2=[]\n",
    "\n",
    "abun_all=[]\n",
    "abunC_all=[]\n",
    "i=0\n",
    "def makeplot(i) :\n",
    "    \n",
    "    pyplot.figure(i)\n",
    "    \n",
    "    pyplot.figure(figsize=(10,10))\n",
    "    \n",
    "    pyplot.scatter(abun[0],abun[i],s=0.8)\n",
    "    \n",
    "    for x in s_list : #highlight s-enriched stars\n",
    "        if str(abun[i][x])!='nan' :\n",
    "            pyplot.scatter(abun[0][x],abun[i][x],color='blue',s=15.)\n",
    "            \n",
    "    for y in r_list : #highlight r-enriched stars\n",
    "        if str(abun[i][y])!='nan' :\n",
    "            pyplot.scatter(abun[0][y],abun[i][y],color='red',s=5.)\n",
    "            \n",
    "    pyplot.scatter(abun[0][1087],abun[i][1087],color='lime',s=15.)\n",
    "    #pyplot.scatter(abunC[i],abun2[i],color='lime',s=5.)\n",
    "    \n",
    "    pyplot.title(str(ab_sun[i]))\n",
    "    pyplot.xlabel('[C/Fe]', fontsize=14)\n",
    "    pyplot.ylabel( '['+str(ab_sun[i])+'/Fe]', fontsize=14)\n",
    "    #pyplot.errorbar(metal[i], abun[i], xerr=errmetal[i], yerr=errabun[i],ls='none',color='#95d0fc',elinewidth=0.2)\n",
    "    pyplot.ylim(-0.75, 2.5) \n",
    "    pyplot.xlim(-1.5, 2)\n",
    "\n",
    "while i<len(ab_sun) :#i spans all elements in ab_sun\n",
    "    abun.append(alldata[str(ab_sun[i])]-(numpy.ones_like(alldata[str(ab_sun[i])]))*ab_sun_data[i]-alldata['FEH'])\n",
    "    abun2.append([])\n",
    "    abunC.append([])\n",
    "    interest.append([])\n",
    "    abun_all.append([])\n",
    "    abunC_all.append([])\n",
    "    metal.append(alldata['FEH'])\n",
    "    errmetal.append(alldata['E_FEH'])\n",
    "    errabun.append(numpy.sqrt((alldata['E_'+str(ab_sun[i])])**2+((numpy.ones_like(alldata[str(ab_sun[i])]))*ab_sun_error[i])**2+(alldata['E_FEH'])**2))\n",
    " \n",
    "    \n",
    "    j=0\n",
    "    while j<len(metal[i]) :\n",
    "        \n",
    "        if abun[i][j]>dev[i] and str(abun[0][j])!='nan'  and str(abun[i][j])!='nan':#sets condition for enrichment            \n",
    "            \n",
    "            abun2[i].append(abun[i][j])\n",
    "            abunC[i].append(abun[0][j])\n",
    "            interest[i].append(j)\n",
    "            \n",
    "        else :\n",
    "            abun=abun\n",
    "            \n",
    "        j+=1\n",
    "        \n",
    "    k=0   \n",
    "    while k<len(abunC[i]) :\n",
    "        \n",
    "        \n",
    "        if i>0 :\n",
    "        \n",
    "            if abunC[i][k] in abunC[i-1] :\n",
    "                \n",
    "                \n",
    "            \n",
    "                abun_all[i].append(abun[i][k])\n",
    "                abunC_all[i].append(abun[0][k])\n",
    "                \n",
    "        k+=1\n",
    "        \n",
    "        \n",
    "        \n",
    "    print(ab_sun[i])\n",
    "    ab[i] = [x for x in abun[i] if str(x) != 'nan']\n",
    "    if len(ab[i])>1 :\n",
    "        makeplot(i)\n",
    "    \n",
    "        \n",
    "    i+=1\n",
    "    "
   ]
  },
  {
   "cell_type": "markdown",
   "metadata": {},
   "source": [
    "All that remains is to list all objects of interest by name in a table. We do precisely that below."
   ]
  },
  {
   "cell_type": "code",
   "execution_count": 119,
   "metadata": {
    "collapsed": false
   },
   "outputs": [
    {
     "data": {
      "text/plain": [
       "18"
      ]
     },
     "execution_count": 119,
     "metadata": {},
     "output_type": "execute_result"
    }
   ],
   "source": [
    "len(reinterest[1])"
   ]
  },
  {
   "cell_type": "code",
   "execution_count": 120,
   "metadata": {
    "collapsed": false
   },
   "outputs": [],
   "source": [
    "name=[]\n",
    "name.append(alldata['cname'])"
   ]
  },
  {
   "cell_type": "code",
   "execution_count": 121,
   "metadata": {
    "collapsed": false
   },
   "outputs": [
    {
     "data": {
      "text/plain": [
       "'HD749'"
      ]
     },
     "execution_count": 121,
     "metadata": {},
     "output_type": "execute_result"
    }
   ],
   "source": [
    "object_data[1087]"
   ]
  },
  {
   "cell_type": "code",
   "execution_count": 122,
   "metadata": {
    "collapsed": false
   },
   "outputs": [],
   "source": [
    "r_objects=[]\n",
    "\n",
    "for x in r_list :\n",
    "    r_objects.append(object_data[x])"
   ]
  },
  {
   "cell_type": "code",
   "execution_count": 123,
   "metadata": {
    "collapsed": false
   },
   "outputs": [
    {
     "name": "stdout",
     "output_type": "stream",
     "text": [
      "['U_2_b_406_19', '14080', 'U_2_b_178_25', '887tmasJ', 'U_2_b_405_3', '222', '342', '29719', 'Gmb1830_Benchmarks_BordeauxLib3', '43446', 'U_2_b_37_27', 'U_2_b_86_13', '700010053', 'U_2_b_76_4', '2MASS08414659-5303449', 'U_2_e_65_6', '32903', '2m07384226+2131021', 'U_1_b_9_124', 'NGC362_0638', '2808AGB002', 'U_2_b_57_13', 'U_2_b_171_32', 'U_2_b_156_8', 'U_2_b_27_752', 'U_2_b_376_17', '7010182']\n"
     ]
    }
   ],
   "source": [
    "print(r_objects)"
   ]
  },
  {
   "cell_type": "code",
   "execution_count": 124,
   "metadata": {
    "collapsed": true
   },
   "outputs": [],
   "source": [
    "s_objects=[]\n",
    "\n",
    "for x in s_list :\n",
    "    s_objects.append(object_data[x])"
   ]
  },
  {
   "cell_type": "code",
   "execution_count": 125,
   "metadata": {
    "collapsed": false
   },
   "outputs": [
    {
     "name": "stdout",
     "output_type": "stream",
     "text": [
      "['32903', 'U_2_b_241_36', 'U11916', '2m07384226+2131021', 'U_2_b_76_15', 'U_2_b_410_19', 'U_2_e_56_14', 'U_2_e_426_13', 'U_2_e_55_17', 'U_2_b_134_35', '100938641', '149959c7', 'RGBb.3', 'HD749', 'U_1_e_1_16']\n"
     ]
    }
   ],
   "source": [
    "print(s_objects)"
   ]
  },
  {
   "cell_type": "code",
   "execution_count": 126,
   "metadata": {
    "collapsed": true
   },
   "outputs": [],
   "source": [
    "gestype_data=alldata['ges_type']"
   ]
  },
  {
   "cell_type": "code",
   "execution_count": 127,
   "metadata": {
    "collapsed": true
   },
   "outputs": [],
   "source": [
    "r_gestype=[]\n",
    "\n",
    "for x in r_list :\n",
    "    r_gestype.append(gestype_data[x])"
   ]
  },
  {
   "cell_type": "code",
   "execution_count": 128,
   "metadata": {
    "collapsed": false
   },
   "outputs": [],
   "source": [
    "s_gestype=[]\n",
    "\n",
    "for x in s_list :\n",
    "    s_gestype.append(gestype_data[x])"
   ]
  },
  {
   "cell_type": "code",
   "execution_count": 140,
   "metadata": {
    "collapsed": true
   },
   "outputs": [],
   "source": [
    "sn_data=alldata['snr']"
   ]
  },
  {
   "cell_type": "code",
   "execution_count": 141,
   "metadata": {
    "collapsed": true
   },
   "outputs": [],
   "source": [
    "r_sn=[]\n",
    "\n",
    "for x in r_list :\n",
    "    r_sn.append(sn_data[x])"
   ]
  },
  {
   "cell_type": "code",
   "execution_count": 142,
   "metadata": {
    "collapsed": false
   },
   "outputs": [],
   "source": [
    "s_sn=[]\n",
    "\n",
    "for x in s_list :\n",
    "    s_sn.append(sn_data[x])"
   ]
  },
  {
   "cell_type": "code",
   "execution_count": 143,
   "metadata": {
    "collapsed": true
   },
   "outputs": [],
   "source": [
    "FEH_data=alldata['FEH']"
   ]
  },
  {
   "cell_type": "code",
   "execution_count": 144,
   "metadata": {
    "collapsed": true
   },
   "outputs": [],
   "source": [
    "r_FEH=[]\n",
    "\n",
    "for x in r_list :\n",
    "    r_FEH.append(FEH_data[x])"
   ]
  },
  {
   "cell_type": "code",
   "execution_count": 145,
   "metadata": {
    "collapsed": true
   },
   "outputs": [],
   "source": [
    "s_FEH=[]\n",
    "\n",
    "for x in s_list :\n",
    "    s_FEH.append(FEH_data[x])"
   ]
  },
  {
   "cell_type": "code",
   "execution_count": 146,
   "metadata": {
    "collapsed": false
   },
   "outputs": [],
   "source": [
    "common = [] #lists stars both r-enriched and s-enriched\n",
    "for element in r_objects :\n",
    "    if element in s_objects :\n",
    "        common.append(element)\n"
   ]
  },
  {
   "cell_type": "markdown",
   "metadata": {},
   "source": [
    "The two cells below allow for a LateX "
   ]
  },
  {
   "cell_type": "code",
   "execution_count": 149,
   "metadata": {
    "collapsed": false
   },
   "outputs": [
    {
     "name": "stdout",
     "output_type": "stream",
     "text": [
      "32903 & oui & oui & 126.099 & -1.07263 \\ \\hline\n",
      "U_2_b_241_36 & non & oui & 47.2434 & -0.361 \\hline\n",
      "U11916 & non & oui & 173.041 & 0.0 \\hline\n",
      "2m07384226+2131021 & oui & oui & 94.8348 & -0.1 \\ \\hline\n",
      "U_2_b_76_15 & non & oui & 73.5924 & -1.05316 \\hline\n",
      "U_2_b_410_19 & non & oui & 27.1415 & -0.09 \\hline\n",
      "U_2_e_56_14 & non & oui & 48.5645 & -0.384 \\hline\n",
      "U_2_e_426_13 & non & oui & 59.0151 & -1.07 \\hline\n",
      "U_2_e_55_17 & non & oui & 67.1099 & -0.09 \\hline\n",
      "U_2_b_134_35 & non & oui & 77.0141 & -0.719 \\hline\n",
      "100938641 & non & oui & 139.938 & 0.037 \\hline\n",
      "149959c7 & non & oui & 123.0 & -0.09 \\hline\n",
      "RGBb.3 & non & oui & 63.9375 & -1.019 \\hline\n",
      "HD749 & non & oui & 176.624 & -0.225 \\hline\n",
      "U_1_e_1_16 & non & oui & 122.222 & -0.68 \\hline\n"
     ]
    }
   ],
   "source": [
    "i=0\n",
    "\n",
    "while i<len(s_sn) :\n",
    "    if s_objects[i] in common :\n",
    "        \n",
    "        print(s_objects[i],'&','oui','&','oui','&',s_sn[i],'&',s_FEH[i],'\\\\ \\hline')\n",
    "        \n",
    "    else :\n",
    "        \n",
    "        print(s_objects[i],'&','non','&','oui','&',s_sn[i],'&',s_FEH[i],'\\hline')\n",
    "     \n",
    "    i+=1"
   ]
  },
  {
   "cell_type": "code",
   "execution_count": null,
   "metadata": {
    "collapsed": false
   },
   "outputs": [],
   "source": [
    "i=0\n",
    "\n",
    "while i<len(r_sn) :\n",
    "    if r_objects[i] in common :\n",
    "        \n",
    "        print(r_objects[i],'&','oui','&','oui','&',r_sn[i],'&',r_FEH[i],'\\hline')\n",
    "        \n",
    "    else :\n",
    "        \n",
    "        print(r_objects[i],'&','oui','&','non','&',r_sn[i],'&',r_FEH[i],'\\hline')\n",
    "     \n",
    "    i+=1"
   ]
  },
  {
   "cell_type": "code",
   "execution_count": null,
   "metadata": {
    "collapsed": true
   },
   "outputs": [],
   "source": []
  }
 ],
 "metadata": {
  "anaconda-cloud": {},
  "kernelspec": {
   "display_name": "Python [conda root]",
   "language": "python",
   "name": "conda-root-py"
  },
  "language_info": {
   "codemirror_mode": {
    "name": "ipython",
    "version": 3
   },
   "file_extension": ".py",
   "mimetype": "text/x-python",
   "name": "python",
   "nbconvert_exporter": "python",
   "pygments_lexer": "ipython3",
   "version": "3.5.2"
  }
 },
 "nbformat": 4,
 "nbformat_minor": 1
}
